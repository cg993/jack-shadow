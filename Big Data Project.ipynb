{
 "cells": [
  {
   "cell_type": "code",
   "execution_count": 15,
   "metadata": {},
   "outputs": [],
   "source": [
    "import numpy as np\n",
    "import matplotlib.pyplot as plt\n",
    "import pandas as pd"
   ]
  },
  {
   "cell_type": "code",
   "execution_count": 16,
   "metadata": {},
   "outputs": [],
   "source": [
    "df=pd.read_csv('DataForNLP.csv')"
   ]
  },
  {
   "cell_type": "code",
   "execution_count": 17,
   "metadata": {},
   "outputs": [
    {
     "name": "stdout",
     "output_type": "stream",
     "text": [
      "      Q3  Q4     Q5  Q6  Q7 Q8  \\\n",
      "0    4.0   2  1,6,7   1   8  3   \n",
      "1    4.0   4      6   1   7  3   \n",
      "2    3.0   4      3   3   8  3   \n",
      "3    3.0   4      6   1   7  3   \n",
      "4    3.0   4      5   1   4  3   \n",
      "..   ...  ..    ...  ..  .. ..   \n",
      "360  3.0   4    NaN   2   7  1   \n",
      "361  4.0   4      6   5   3  3   \n",
      "362  3.0   4      3   1   8  3   \n",
      "363  4.0   2    NaN   3   4  3   \n",
      "364  3.0   4    1,6   1   5  3   \n",
      "\n",
      "                                                   Q37  \n",
      "0    Keep the videos short, keep extra example outs...  \n",
      "1    It was very time consuming.\\nI believe it is t...  \n",
      "2    Horrible experience. I am seriously considerin...  \n",
      "3    1 needed new equipment paid for  by me\\nhad to...  \n",
      "4    I was familiar with Zoom from video conferenci...  \n",
      "..                                                 ...  \n",
      "360  I coordinate the engineering physics sequence....  \n",
      "361  I only had 8 sessions left when we went online...  \n",
      "362  Since I had about 250 students, with a sizable...  \n",
      "363  The challenges were with online labs and cheat...  \n",
      "364  If teaching online again, I'd prefer that stud...  \n",
      "\n",
      "[365 rows x 7 columns]\n"
     ]
    }
   ],
   "source": [
    "print(df)"
   ]
  },
  {
   "cell_type": "code",
   "execution_count": 18,
   "metadata": {},
   "outputs": [],
   "source": [
    "response=df['Q37'].tolist()"
   ]
  },
  {
   "cell_type": "code",
   "execution_count": 19,
   "metadata": {},
   "outputs": [
    {
     "name": "stdout",
     "output_type": "stream",
     "text": [
      "365\n"
     ]
    }
   ],
   "source": [
    "print(len(response))"
   ]
  },
  {
   "cell_type": "code",
   "execution_count": 20,
   "metadata": {},
   "outputs": [
    {
     "name": "stderr",
     "output_type": "stream",
     "text": [
      "[nltk_data] Downloading package vader_lexicon to\n",
      "[nltk_data]     /Users/colingreen1/nltk_data...\n",
      "[nltk_data]   Package vader_lexicon is already up-to-date!\n"
     ]
    }
   ],
   "source": [
    "import nltk\n",
    "nltk.download('vader_lexicon')\n",
    "from nltk.sentiment.vader import SentimentIntensityAnalyzer\n",
    "sentiment=SentimentIntensityAnalyzer()"
   ]
  },
  {
   "cell_type": "code",
   "execution_count": 21,
   "metadata": {},
   "outputs": [
    {
     "data": {
      "text/plain": [
       "{'neg': 0.0, 'neu': 0.888, 'pos': 0.112, 'compound': 0.4404}"
      ]
     },
     "execution_count": 21,
     "metadata": {},
     "output_type": "execute_result"
    }
   ],
   "source": [
    "sentiment.polarity_scores(response[1])"
   ]
  },
  {
   "cell_type": "code",
   "execution_count": 25,
   "metadata": {},
   "outputs": [],
   "source": [
    "df['Sentiment']=df['Q37'].apply(lambda Q37: sentiment.polarity_scores(Q37))"
   ]
  },
  {
   "cell_type": "code",
   "execution_count": 26,
   "metadata": {},
   "outputs": [
    {
     "data": {
      "text/html": [
       "<div>\n",
       "<style scoped>\n",
       "    .dataframe tbody tr th:only-of-type {\n",
       "        vertical-align: middle;\n",
       "    }\n",
       "\n",
       "    .dataframe tbody tr th {\n",
       "        vertical-align: top;\n",
       "    }\n",
       "\n",
       "    .dataframe thead th {\n",
       "        text-align: right;\n",
       "    }\n",
       "</style>\n",
       "<table border=\"1\" class=\"dataframe\">\n",
       "  <thead>\n",
       "    <tr style=\"text-align: right;\">\n",
       "      <th></th>\n",
       "      <th>Q3</th>\n",
       "      <th>Q4</th>\n",
       "      <th>Q5</th>\n",
       "      <th>Q6</th>\n",
       "      <th>Q7</th>\n",
       "      <th>Q8</th>\n",
       "      <th>Q37</th>\n",
       "      <th>Sentiment Scores</th>\n",
       "      <th>Sentiment</th>\n",
       "    </tr>\n",
       "  </thead>\n",
       "  <tbody>\n",
       "    <tr>\n",
       "      <th>0</th>\n",
       "      <td>4.0</td>\n",
       "      <td>2</td>\n",
       "      <td>1,6,7</td>\n",
       "      <td>1</td>\n",
       "      <td>8</td>\n",
       "      <td>3</td>\n",
       "      <td>Keep the videos short, keep extra example outs...</td>\n",
       "      <td>{'neg': 0.077, 'neu': 0.856, 'pos': 0.066, 'co...</td>\n",
       "      <td>{'neg': 0.077, 'neu': 0.856, 'pos': 0.066, 'co...</td>\n",
       "    </tr>\n",
       "    <tr>\n",
       "      <th>1</th>\n",
       "      <td>4.0</td>\n",
       "      <td>4</td>\n",
       "      <td>6</td>\n",
       "      <td>1</td>\n",
       "      <td>7</td>\n",
       "      <td>3</td>\n",
       "      <td>It was very time consuming.\\nI believe it is t...</td>\n",
       "      <td>{'neg': 0.0, 'neu': 0.888, 'pos': 0.112, 'comp...</td>\n",
       "      <td>{'neg': 0.0, 'neu': 0.888, 'pos': 0.112, 'comp...</td>\n",
       "    </tr>\n",
       "    <tr>\n",
       "      <th>2</th>\n",
       "      <td>3.0</td>\n",
       "      <td>4</td>\n",
       "      <td>3</td>\n",
       "      <td>3</td>\n",
       "      <td>8</td>\n",
       "      <td>3</td>\n",
       "      <td>Horrible experience. I am seriously considerin...</td>\n",
       "      <td>{'neg': 0.51, 'neu': 0.49, 'pos': 0.0, 'compou...</td>\n",
       "      <td>{'neg': 0.51, 'neu': 0.49, 'pos': 0.0, 'compou...</td>\n",
       "    </tr>\n",
       "    <tr>\n",
       "      <th>3</th>\n",
       "      <td>3.0</td>\n",
       "      <td>4</td>\n",
       "      <td>6</td>\n",
       "      <td>1</td>\n",
       "      <td>7</td>\n",
       "      <td>3</td>\n",
       "      <td>1 needed new equipment paid for  by me\\nhad to...</td>\n",
       "      <td>{'neg': 0.094, 'neu': 0.906, 'pos': 0.0, 'comp...</td>\n",
       "      <td>{'neg': 0.094, 'neu': 0.906, 'pos': 0.0, 'comp...</td>\n",
       "    </tr>\n",
       "    <tr>\n",
       "      <th>4</th>\n",
       "      <td>3.0</td>\n",
       "      <td>4</td>\n",
       "      <td>5</td>\n",
       "      <td>1</td>\n",
       "      <td>4</td>\n",
       "      <td>3</td>\n",
       "      <td>I was familiar with Zoom from video conferenci...</td>\n",
       "      <td>{'neg': 0.065, 'neu': 0.848, 'pos': 0.087, 'co...</td>\n",
       "      <td>{'neg': 0.065, 'neu': 0.848, 'pos': 0.087, 'co...</td>\n",
       "    </tr>\n",
       "  </tbody>\n",
       "</table>\n",
       "</div>"
      ],
      "text/plain": [
       "    Q3  Q4     Q5  Q6  Q7 Q8  \\\n",
       "0  4.0   2  1,6,7   1   8  3   \n",
       "1  4.0   4      6   1   7  3   \n",
       "2  3.0   4      3   3   8  3   \n",
       "3  3.0   4      6   1   7  3   \n",
       "4  3.0   4      5   1   4  3   \n",
       "\n",
       "                                                 Q37  \\\n",
       "0  Keep the videos short, keep extra example outs...   \n",
       "1  It was very time consuming.\\nI believe it is t...   \n",
       "2  Horrible experience. I am seriously considerin...   \n",
       "3  1 needed new equipment paid for  by me\\nhad to...   \n",
       "4  I was familiar with Zoom from video conferenci...   \n",
       "\n",
       "                                    Sentiment Scores  \\\n",
       "0  {'neg': 0.077, 'neu': 0.856, 'pos': 0.066, 'co...   \n",
       "1  {'neg': 0.0, 'neu': 0.888, 'pos': 0.112, 'comp...   \n",
       "2  {'neg': 0.51, 'neu': 0.49, 'pos': 0.0, 'compou...   \n",
       "3  {'neg': 0.094, 'neu': 0.906, 'pos': 0.0, 'comp...   \n",
       "4  {'neg': 0.065, 'neu': 0.848, 'pos': 0.087, 'co...   \n",
       "\n",
       "                                           Sentiment  \n",
       "0  {'neg': 0.077, 'neu': 0.856, 'pos': 0.066, 'co...  \n",
       "1  {'neg': 0.0, 'neu': 0.888, 'pos': 0.112, 'comp...  \n",
       "2  {'neg': 0.51, 'neu': 0.49, 'pos': 0.0, 'compou...  \n",
       "3  {'neg': 0.094, 'neu': 0.906, 'pos': 0.0, 'comp...  \n",
       "4  {'neg': 0.065, 'neu': 0.848, 'pos': 0.087, 'co...  "
      ]
     },
     "execution_count": 26,
     "metadata": {},
     "output_type": "execute_result"
    }
   ],
   "source": [
    "df.head()"
   ]
  },
  {
   "cell_type": "code",
   "execution_count": 28,
   "metadata": {},
   "outputs": [
    {
     "ename": "TypeError",
     "evalue": "'method' object is not subscriptable",
     "output_type": "error",
     "traceback": [
      "\u001b[0;31m---------------------------------------------------------------------------\u001b[0m",
      "\u001b[0;31mTypeError\u001b[0m                                 Traceback (most recent call last)",
      "\u001b[0;32m<ipython-input-28-a903eb24d0e1>\u001b[0m in \u001b[0;36m<module>\u001b[0;34m\u001b[0m\n\u001b[0;32m----> 1\u001b[0;31m \u001b[0mdf\u001b[0m\u001b[0;34m[\u001b[0m\u001b[0;34m'Compound'\u001b[0m\u001b[0;34m]\u001b[0m\u001b[0;34m=\u001b[0m\u001b[0mdf\u001b[0m\u001b[0;34m[\u001b[0m\u001b[0;34m'Sentiment'\u001b[0m\u001b[0;34m]\u001b[0m\u001b[0;34m.\u001b[0m\u001b[0mapply\u001b[0m\u001b[0;34m[\u001b[0m\u001b[0;32mlambda\u001b[0m \u001b[0mSentiment_dict\u001b[0m\u001b[0;34m:\u001b[0m \u001b[0mSentiment_dict\u001b[0m\u001b[0;34m[\u001b[0m\u001b[0;34m'compound'\u001b[0m\u001b[0;34m]\u001b[0m\u001b[0;34m]\u001b[0m\u001b[0;34m\u001b[0m\u001b[0;34m\u001b[0m\u001b[0m\n\u001b[0m\u001b[1;32m      2\u001b[0m \u001b[0mdf\u001b[0m\u001b[0;34m.\u001b[0m\u001b[0mhead\u001b[0m\u001b[0;34m(\u001b[0m\u001b[0;34m)\u001b[0m\u001b[0;34m\u001b[0m\u001b[0;34m\u001b[0m\u001b[0m\n",
      "\u001b[0;31mTypeError\u001b[0m: 'method' object is not subscriptable"
     ]
    }
   ],
   "source": [
    "df['Compound']=df['Sentiment'].apply[lambda Sentiment_dict: Sentiment_dict['compound']]\n",
    "df.head()"
   ]
  },
  {
   "cell_type": "code",
   "execution_count": null,
   "metadata": {},
   "outputs": [],
   "source": []
  }
 ],
 "metadata": {
  "kernelspec": {
   "display_name": "Python 3",
   "language": "python",
   "name": "python3"
  },
  "language_info": {
   "codemirror_mode": {
    "name": "ipython",
    "version": 3
   },
   "file_extension": ".py",
   "mimetype": "text/x-python",
   "name": "python",
   "nbconvert_exporter": "python",
   "pygments_lexer": "ipython3",
   "version": "3.8.3"
  }
 },
 "nbformat": 4,
 "nbformat_minor": 4
}
