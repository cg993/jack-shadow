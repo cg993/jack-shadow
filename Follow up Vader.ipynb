{
 "cells": [
  {
   "cell_type": "code",
   "execution_count": 1,
   "metadata": {},
   "outputs": [],
   "source": [
    "import numpy as np\n",
    "import matplotlib.pyplot as plt\n",
    "import pandas as pd"
   ]
  },
  {
   "cell_type": "code",
   "execution_count": 2,
   "metadata": {},
   "outputs": [],
   "source": [
    "df=pd.read_csv('FollowUpQualitativeSurveyResponse.csv')"
   ]
  },
  {
   "cell_type": "code",
   "execution_count": 3,
   "metadata": {},
   "outputs": [],
   "source": [
    "response=df['Q37'].tolist()"
   ]
  },
  {
   "cell_type": "code",
   "execution_count": 4,
   "metadata": {},
   "outputs": [
    {
     "name": "stderr",
     "output_type": "stream",
     "text": [
      "[nltk_data] Downloading package vader_lexicon to\n",
      "[nltk_data]     C:\\Users\\colin\\AppData\\Roaming\\nltk_data...\n",
      "[nltk_data]   Package vader_lexicon is already up-to-date!\n"
     ]
    }
   ],
   "source": [
    "import nltk\n",
    "nltk.download('vader_lexicon')\n",
    "from nltk.sentiment.vader import SentimentIntensityAnalyzer\n",
    "sentiment=SentimentIntensityAnalyzer()"
   ]
  },
  {
   "cell_type": "code",
   "execution_count": 5,
   "metadata": {},
   "outputs": [],
   "source": [
    "df['scores']=df['Q37'].apply(lambda Q37: sentiment.polarity_scores(Q37))"
   ]
  },
  {
   "cell_type": "code",
   "execution_count": 6,
   "metadata": {},
   "outputs": [
    {
     "data": {
      "text/html": [
       "<div>\n",
       "<style scoped>\n",
       "    .dataframe tbody tr th:only-of-type {\n",
       "        vertical-align: middle;\n",
       "    }\n",
       "\n",
       "    .dataframe tbody tr th {\n",
       "        vertical-align: top;\n",
       "    }\n",
       "\n",
       "    .dataframe thead th {\n",
       "        text-align: right;\n",
       "    }\n",
       "</style>\n",
       "<table border=\"1\" class=\"dataframe\">\n",
       "  <thead>\n",
       "    <tr style=\"text-align: right;\">\n",
       "      <th></th>\n",
       "      <th>Q37</th>\n",
       "      <th>scores</th>\n",
       "      <th>compound</th>\n",
       "    </tr>\n",
       "  </thead>\n",
       "  <tbody>\n",
       "    <tr>\n",
       "      <th>0</th>\n",
       "      <td>We are interested in how your experiences in F...</td>\n",
       "      <td>{'neg': 0.0, 'neu': 0.885, 'pos': 0.115, 'comp...</td>\n",
       "      <td>0.7184</td>\n",
       "    </tr>\n",
       "    <tr>\n",
       "      <th>1</th>\n",
       "      <td>I had to work harder on making social connecti...</td>\n",
       "      <td>{'neg': 0.0, 'neu': 1.0, 'pos': 0.0, 'compound...</td>\n",
       "      <td>0.0000</td>\n",
       "    </tr>\n",
       "    <tr>\n",
       "      <th>2</th>\n",
       "      <td>I usually teach face-to-face SCALE-UP.  So one...</td>\n",
       "      <td>{'neg': 0.028, 'neu': 0.972, 'pos': 0.0, 'comp...</td>\n",
       "      <td>-0.4215</td>\n",
       "    </tr>\n",
       "    <tr>\n",
       "      <th>3</th>\n",
       "      <td>Our institution pivoted to 100% online in one ...</td>\n",
       "      <td>{'neg': 0.0, 'neu': 0.85, 'pos': 0.15, 'compou...</td>\n",
       "      <td>0.7346</td>\n",
       "    </tr>\n",
       "    <tr>\n",
       "      <th>4</th>\n",
       "      <td>I could plan ahead for online teaching, so I c...</td>\n",
       "      <td>{'neg': 0.0, 'neu': 1.0, 'pos': 0.0, 'compound...</td>\n",
       "      <td>0.0000</td>\n",
       "    </tr>\n",
       "  </tbody>\n",
       "</table>\n",
       "</div>"
      ],
      "text/plain": [
       "                                                 Q37  \\\n",
       "0  We are interested in how your experiences in F...   \n",
       "1  I had to work harder on making social connecti...   \n",
       "2  I usually teach face-to-face SCALE-UP.  So one...   \n",
       "3  Our institution pivoted to 100% online in one ...   \n",
       "4  I could plan ahead for online teaching, so I c...   \n",
       "\n",
       "                                              scores  compound  \n",
       "0  {'neg': 0.0, 'neu': 0.885, 'pos': 0.115, 'comp...    0.7184  \n",
       "1  {'neg': 0.0, 'neu': 1.0, 'pos': 0.0, 'compound...    0.0000  \n",
       "2  {'neg': 0.028, 'neu': 0.972, 'pos': 0.0, 'comp...   -0.4215  \n",
       "3  {'neg': 0.0, 'neu': 0.85, 'pos': 0.15, 'compou...    0.7346  \n",
       "4  {'neg': 0.0, 'neu': 1.0, 'pos': 0.0, 'compound...    0.0000  "
      ]
     },
     "execution_count": 6,
     "metadata": {},
     "output_type": "execute_result"
    }
   ],
   "source": [
    "df['compound']=df['scores'].apply(lambda score_dict: score_dict['compound'])\n",
    "df.head()"
   ]
  },
  {
   "cell_type": "code",
   "execution_count": 7,
   "metadata": {},
   "outputs": [
    {
     "name": "stdout",
     "output_type": "stream",
     "text": [
      "[0.7184, 0.0, -0.4215, 0.7346, 0.0, -0.0258, 0.8904, 0.6249, 0.8362, 0.6249, 0.8074, 0.8313, -0.9023, 0.3818, 0.9259, 0.0, 0.9999, 0.0, -0.34, -0.863, -0.8937, 0.3818, 0.6549, 0.0, 0.0, -0.4574, 0.3291, 0.5256, 0.4019, 0.4118, -0.5423, 0.2023, 0.4215, 0.8986, 0.5632, -0.4965, -0.5451, 0.7909, 0.4498, 0.7373, -0.1779, 0.5859, -0.6124, 0.4053, 0.1774, 0.9136, -0.2484, 0.4215, 0.0, -0.0516, 0.8384, 0.9632, 0.9791, 0.2023, 0.0, 0.0, -0.5244, 0.2023, 0.4588, 0.7269, 0.2484, -0.0516, -0.2057, 0.8436, -0.8369, 0.4926, -0.9385, 0.8442, 0.765, 0.9423, 0.2732, 0.0, 0.0, 0.6249, 0.9651, -0.7003, 0.4033, 0.7575, 0.183, 0.796, 0.8225, -0.4201, -0.296, -0.0258, -0.128, -0.34, -0.3384, -0.128, 0.0, -0.5859, -0.0334, -0.4588, -0.0258, 0.4391, 0.1531, 0.0, -0.9604, 0.9759, -0.2878, 0.0514, 0.8765, 0.6369, 0.2732, 0.9315, 0.4902, -0.0704, -0.4215, 0.0, 0.4497, -0.0516, 0.9845, 0.4588, -0.1045, 0.915, -0.0772, 0.4215, 0.4927, 0.6054, 0.9194, -0.5567, -0.3384, 0.8894, 0.0, 0.7096, 0.8852, 0.296, -0.3086, 0.9694, 0.8779, 0.9598, -0.5524, 0.3415, 0.9847, 0.5589, 0.7579]\n"
     ]
    }
   ],
   "source": [
    "compound_scores=df['compound'].tolist()\n",
    "print(compound_scores)"
   ]
  },
  {
   "cell_type": "code",
   "execution_count": 13,
   "metadata": {},
   "outputs": [
    {
     "data": {
      "image/png": "[encoded data removed]",
      "text/plain": [
       "<Figure size 432x288 with 1 Axes>"
      ]
     },
     "metadata": {
      "needs_background": "light"
     },
     "output_type": "display_data"
    }
   ],
   "source": [
    "plt.hist(compound_scores, bins=20, histtype='step')\n",
    "plt.xlabel('Compound score')\n",
    "plt.ylabel('Frequency')\n",
    "plt.title('Compound Sentiment Score of Followup COVID Response Data')\n",
    "plt.savefig('followuphist.png')\n",
    "plt.show()"
   ]
  },
  {
   "cell_type": "code",
   "execution_count": 9,
   "metadata": {},
   "outputs": [
    {
     "name": "stdout",
     "output_type": "stream",
     "text": [
      "135\n"
     ]
    }
   ],
   "source": [
    "compound_sc=np.array(compound_scores)\n",
    "print(len(compound_scores))"
   ]
  },
  {
   "cell_type": "code",
   "execution_count": 10,
   "metadata": {},
   "outputs": [
    {
     "name": "stdout",
     "output_type": "stream",
     "text": [
      "0.2440059259259259 0.5313009612002324 -0.9604 0.9999 0.296\n"
     ]
    }
   ],
   "source": [
    "mu=np.mean(compound_sc)\n",
    "std=np.std(compound_sc)\n",
    "minimum=np.min(compound_sc)\n",
    "maximum=np.max(compound_sc)\n",
    "median=np.median(compound_sc)\n",
    "print(mu,std,minimum,maximum,median)"
   ]
  },
  {
   "cell_type": "code",
   "execution_count": 11,
   "metadata": {},
   "outputs": [
    {
     "data": {
      "text/plain": [
       "(0.15322884128197167, 0.33478301056988014)"
      ]
     },
     "execution_count": 11,
     "metadata": {},
     "output_type": "execute_result"
    }
   ],
   "source": [
    "import scipy.stats as st\n",
    "st.t.interval(alpha=0.95, df=len(compound_scores)-1, loc=np.mean(compound_scores), scale=st.sem(compound_scores))"
   ]
  },
  {
   "cell_type": "code",
   "execution_count": null,
   "metadata": {},
   "outputs": [],
   "source": []
  }
 ],
 "metadata": {
  "kernelspec": {
   "display_name": "Python 3",
   "language": "python",
   "name": "python3"
  },
  "language_info": {
   "codemirror_mode": {
    "name": "ipython",
    "version": 3
   },
   "file_extension": ".py",
   "mimetype": "text/x-python",
   "name": "python",
   "nbconvert_exporter": "python",
   "pygments_lexer": "ipython3",
   "version": "3.8.5"
  }
 },
 "nbformat": 4,
 "nbformat_minor": 4
}
