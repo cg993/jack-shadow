{
 "cells": [
  {
   "cell_type": "code",
   "execution_count": 1,
   "metadata": {},
   "outputs": [],
   "source": [
    "import numpy as np\n",
    "import pandas as pd\n",
    "import matplotlib.pyplot as plt"
   ]
  },
  {
   "cell_type": "code",
   "execution_count": 2,
   "metadata": {},
   "outputs": [],
   "source": [
    "dfi=pd.read_csv('RapidN_Anonymized210423.csv')\n",
    "dff=pd.read_csv('RapidFollowupAnonymized210423.csv')"
   ]
  },
  {
   "cell_type": "code",
   "execution_count": 3,
   "metadata": {},
   "outputs": [
    {
     "name": "stdout",
     "output_type": "stream",
     "text": [
      "                                       AnonID  \\\n",
      "0    1e8060b7705f5ab8cef80aef430a42bbd078cd37   \n",
      "1    0f9cbec895df6de086762dc692abaa4227a35a79   \n",
      "2    e7d40dbb1ac4042a9b6ce7fd076aa556ab97c95a   \n",
      "3    24f70ec518e4904b58655d80170adaa3ed665cb3   \n",
      "4    a99c401ccd208e5abd3a32ca36aa0c557965e833   \n",
      "..                                        ...   \n",
      "657  b8e17eb8a699336f692ddeec62692e2a11df5ed9   \n",
      "658  635c427ca16e91bb373d2db4a959afb508d08e88   \n",
      "659  f90e94d56654c15bd8c8f0a31a01b4ffdeeb1012   \n",
      "660  7b2c289e51cd2842f2daf6bfad93b1b9dfb31778   \n",
      "661                                       NaN   \n",
      "\n",
      "                                                   Q37  \n",
      "0                                                  NaN  \n",
      "1                                                  NaN  \n",
      "2                                                  NaN  \n",
      "3    Keep the videos short, keep extra example outs...  \n",
      "4                                                  NaN  \n",
      "..                                                 ...  \n",
      "657                                                NaN  \n",
      "658  Since I had about 250 students, with a sizable...  \n",
      "659  The challenges were with online labs and cheat...  \n",
      "660  If teaching online again, I'd prefer that stud...  \n",
      "661                                                NaN  \n",
      "\n",
      "[662 rows x 2 columns]\n",
      "                                       AnonID  \\\n",
      "0    11bf8b146cbd23701c88611dd9601c156ecc2604   \n",
      "1    71e57053413b1c7df895908d9ef510a51ce11807   \n",
      "2    c0332916227c84efb178f74fc571ef27aa4340fb   \n",
      "3    31381ca7061c0cd650ad4178e5f6e183c2b2ed60   \n",
      "4    65083f0fece21c69ff94a923ede566dfe6066d2d   \n",
      "..                                        ...   \n",
      "253  1336c3b8865734aa51ad5c0e55a74b4ce5e4b613   \n",
      "254  666f8b980f0896b51b5ec278137129ef80a6a146   \n",
      "255  801374aec501364a78169ff327f9fe9cc92c245a   \n",
      "256  4a2b399dabcda03fd390e5bb4937f043b448fdda   \n",
      "257  32b58e112ced9d653d2a0d3fa5dd723abf47b56d   \n",
      "\n",
      "                                                   Q37  \n",
      "0                                                  NaN  \n",
      "1                                                  NaN  \n",
      "2                                                  NaN  \n",
      "3                                                  NaN  \n",
      "4    I had to work harder on making social connecti...  \n",
      "..                                                 ...  \n",
      "253                                                NaN  \n",
      "254  I was much better prepared in the Fall, but it...  \n",
      "255                                                NaN  \n",
      "256  Spring was all remote for us. Fall was hybrid....  \n",
      "257                                                NaN  \n",
      "\n",
      "[258 rows x 2 columns]\n"
     ]
    }
   ],
   "source": [
    "dfiq37=dfi[['AnonID','Q37']].copy()\n",
    "dffq37=dff[['AnonID','Q37']].copy()\n",
    "print(dfiq37)\n",
    "print(dffq37)"
   ]
  },
  {
   "cell_type": "code",
   "execution_count": 4,
   "metadata": {},
   "outputs": [
    {
     "data": {
      "text/html": [
       "<div>\n",
       "<style scoped>\n",
       "    .dataframe tbody tr th:only-of-type {\n",
       "        vertical-align: middle;\n",
       "    }\n",
       "\n",
       "    .dataframe tbody tr th {\n",
       "        vertical-align: top;\n",
       "    }\n",
       "\n",
       "    .dataframe thead th {\n",
       "        text-align: right;\n",
       "    }\n",
       "</style>\n",
       "<table border=\"1\" class=\"dataframe\">\n",
       "  <thead>\n",
       "    <tr style=\"text-align: right;\">\n",
       "      <th></th>\n",
       "      <th>AnonID</th>\n",
       "      <th>Q37</th>\n",
       "    </tr>\n",
       "  </thead>\n",
       "  <tbody>\n",
       "    <tr>\n",
       "      <th>3</th>\n",
       "      <td>24f70ec518e4904b58655d80170adaa3ed665cb3</td>\n",
       "      <td>Keep the videos short, keep extra example outs...</td>\n",
       "    </tr>\n",
       "    <tr>\n",
       "      <th>6</th>\n",
       "      <td>1b84a83ec311572f7ed0444cdc10298389ddde08</td>\n",
       "      <td>It was very time consuming.\\nI believe it is t...</td>\n",
       "    </tr>\n",
       "    <tr>\n",
       "      <th>8</th>\n",
       "      <td>844fc4b7d98c289bd9f025d846ffe1a5d45c159f</td>\n",
       "      <td>Horrible experience. I am seriously considerin...</td>\n",
       "    </tr>\n",
       "    <tr>\n",
       "      <th>9</th>\n",
       "      <td>de862328139d4fb76f9c14885ca0805067cc1388</td>\n",
       "      <td>1 needed new equipment paid for  by me\\nhad to...</td>\n",
       "    </tr>\n",
       "    <tr>\n",
       "      <th>11</th>\n",
       "      <td>cdce0e983eb9dc12c6b9e762c4ed345539e5acfa</td>\n",
       "      <td>I was familiar with Zoom from video conferenci...</td>\n",
       "    </tr>\n",
       "    <tr>\n",
       "      <th>...</th>\n",
       "      <td>...</td>\n",
       "      <td>...</td>\n",
       "    </tr>\n",
       "    <tr>\n",
       "      <th>652</th>\n",
       "      <td>8cc8fb97ef6181bb9c81b024b34e8b9d3a5a88f2</td>\n",
       "      <td>I coordinate the engineering physics sequence....</td>\n",
       "    </tr>\n",
       "    <tr>\n",
       "      <th>653</th>\n",
       "      <td>416fc5f68a679578f6f9fbb64cc234ee78d7a52d</td>\n",
       "      <td>I only had 8 sessions left when we went online...</td>\n",
       "    </tr>\n",
       "    <tr>\n",
       "      <th>658</th>\n",
       "      <td>635c427ca16e91bb373d2db4a959afb508d08e88</td>\n",
       "      <td>Since I had about 250 students, with a sizable...</td>\n",
       "    </tr>\n",
       "    <tr>\n",
       "      <th>659</th>\n",
       "      <td>f90e94d56654c15bd8c8f0a31a01b4ffdeeb1012</td>\n",
       "      <td>The challenges were with online labs and cheat...</td>\n",
       "    </tr>\n",
       "    <tr>\n",
       "      <th>660</th>\n",
       "      <td>7b2c289e51cd2842f2daf6bfad93b1b9dfb31778</td>\n",
       "      <td>If teaching online again, I'd prefer that stud...</td>\n",
       "    </tr>\n",
       "  </tbody>\n",
       "</table>\n",
       "<p>364 rows × 2 columns</p>\n",
       "</div>"
      ],
      "text/plain": [
       "                                       AnonID  \\\n",
       "3    24f70ec518e4904b58655d80170adaa3ed665cb3   \n",
       "6    1b84a83ec311572f7ed0444cdc10298389ddde08   \n",
       "8    844fc4b7d98c289bd9f025d846ffe1a5d45c159f   \n",
       "9    de862328139d4fb76f9c14885ca0805067cc1388   \n",
       "11   cdce0e983eb9dc12c6b9e762c4ed345539e5acfa   \n",
       "..                                        ...   \n",
       "652  8cc8fb97ef6181bb9c81b024b34e8b9d3a5a88f2   \n",
       "653  416fc5f68a679578f6f9fbb64cc234ee78d7a52d   \n",
       "658  635c427ca16e91bb373d2db4a959afb508d08e88   \n",
       "659  f90e94d56654c15bd8c8f0a31a01b4ffdeeb1012   \n",
       "660  7b2c289e51cd2842f2daf6bfad93b1b9dfb31778   \n",
       "\n",
       "                                                   Q37  \n",
       "3    Keep the videos short, keep extra example outs...  \n",
       "6    It was very time consuming.\\nI believe it is t...  \n",
       "8    Horrible experience. I am seriously considerin...  \n",
       "9    1 needed new equipment paid for  by me\\nhad to...  \n",
       "11   I was familiar with Zoom from video conferenci...  \n",
       "..                                                 ...  \n",
       "652  I coordinate the engineering physics sequence....  \n",
       "653  I only had 8 sessions left when we went online...  \n",
       "658  Since I had about 250 students, with a sizable...  \n",
       "659  The challenges were with online labs and cheat...  \n",
       "660  If teaching online again, I'd prefer that stud...  \n",
       "\n",
       "[364 rows x 2 columns]"
      ]
     },
     "execution_count": 4,
     "metadata": {},
     "output_type": "execute_result"
    }
   ],
   "source": [
    "dfiq37.dropna()"
   ]
  },
  {
   "cell_type": "code",
   "execution_count": 5,
   "metadata": {},
   "outputs": [
    {
     "data": {
      "text/html": [
       "<div>\n",
       "<style scoped>\n",
       "    .dataframe tbody tr th:only-of-type {\n",
       "        vertical-align: middle;\n",
       "    }\n",
       "\n",
       "    .dataframe tbody tr th {\n",
       "        vertical-align: top;\n",
       "    }\n",
       "\n",
       "    .dataframe thead th {\n",
       "        text-align: right;\n",
       "    }\n",
       "</style>\n",
       "<table border=\"1\" class=\"dataframe\">\n",
       "  <thead>\n",
       "    <tr style=\"text-align: right;\">\n",
       "      <th></th>\n",
       "      <th>AnonID</th>\n",
       "      <th>Q37</th>\n",
       "    </tr>\n",
       "  </thead>\n",
       "  <tbody>\n",
       "    <tr>\n",
       "      <th>4</th>\n",
       "      <td>65083f0fece21c69ff94a923ede566dfe6066d2d</td>\n",
       "      <td>I had to work harder on making social connecti...</td>\n",
       "    </tr>\n",
       "    <tr>\n",
       "      <th>7</th>\n",
       "      <td>f4ae128aaa5cb7a508996f711cea1d1144a4084d</td>\n",
       "      <td>I usually teach face-to-face SCALE-UP.  So one...</td>\n",
       "    </tr>\n",
       "    <tr>\n",
       "      <th>9</th>\n",
       "      <td>80734c0f513bc733cfe8d25cce5b74fc15b81f84</td>\n",
       "      <td>Our institution pivoted to 100% online in one ...</td>\n",
       "    </tr>\n",
       "    <tr>\n",
       "      <th>10</th>\n",
       "      <td>336e81c2ccdb478108dce1017b89fe414ab8267b</td>\n",
       "      <td>I could plan ahead for online teaching, so I c...</td>\n",
       "    </tr>\n",
       "    <tr>\n",
       "      <th>13</th>\n",
       "      <td>66343e5c0cfbc8bd2484e4b9fdae77c179699154</td>\n",
       "      <td>Students need time to interact with each other...</td>\n",
       "    </tr>\n",
       "    <tr>\n",
       "      <th>...</th>\n",
       "      <td>...</td>\n",
       "      <td>...</td>\n",
       "    </tr>\n",
       "    <tr>\n",
       "      <th>248</th>\n",
       "      <td>e8c5359e97e6908fd90f39221598cdbdedfebc7c</td>\n",
       "      <td>Note that I'm just an adjunct instructor worki...</td>\n",
       "    </tr>\n",
       "    <tr>\n",
       "      <th>249</th>\n",
       "      <td>6aaa404dc89e3429e0b92408fb4f66c8f94131e7</td>\n",
       "      <td>A key observation is that students that attend...</td>\n",
       "    </tr>\n",
       "    <tr>\n",
       "      <th>252</th>\n",
       "      <td>97ab88544928153645855427091ca1dc9d45c987</td>\n",
       "      <td>With the teaching online experience from Sprin...</td>\n",
       "    </tr>\n",
       "    <tr>\n",
       "      <th>254</th>\n",
       "      <td>666f8b980f0896b51b5ec278137129ef80a6a146</td>\n",
       "      <td>I was much better prepared in the Fall, but it...</td>\n",
       "    </tr>\n",
       "    <tr>\n",
       "      <th>256</th>\n",
       "      <td>4a2b399dabcda03fd390e5bb4937f043b448fdda</td>\n",
       "      <td>Spring was all remote for us. Fall was hybrid....</td>\n",
       "    </tr>\n",
       "  </tbody>\n",
       "</table>\n",
       "<p>134 rows × 2 columns</p>\n",
       "</div>"
      ],
      "text/plain": [
       "                                       AnonID  \\\n",
       "4    65083f0fece21c69ff94a923ede566dfe6066d2d   \n",
       "7    f4ae128aaa5cb7a508996f711cea1d1144a4084d   \n",
       "9    80734c0f513bc733cfe8d25cce5b74fc15b81f84   \n",
       "10   336e81c2ccdb478108dce1017b89fe414ab8267b   \n",
       "13   66343e5c0cfbc8bd2484e4b9fdae77c179699154   \n",
       "..                                        ...   \n",
       "248  e8c5359e97e6908fd90f39221598cdbdedfebc7c   \n",
       "249  6aaa404dc89e3429e0b92408fb4f66c8f94131e7   \n",
       "252  97ab88544928153645855427091ca1dc9d45c987   \n",
       "254  666f8b980f0896b51b5ec278137129ef80a6a146   \n",
       "256  4a2b399dabcda03fd390e5bb4937f043b448fdda   \n",
       "\n",
       "                                                   Q37  \n",
       "4    I had to work harder on making social connecti...  \n",
       "7    I usually teach face-to-face SCALE-UP.  So one...  \n",
       "9    Our institution pivoted to 100% online in one ...  \n",
       "10   I could plan ahead for online teaching, so I c...  \n",
       "13   Students need time to interact with each other...  \n",
       "..                                                 ...  \n",
       "248  Note that I'm just an adjunct instructor worki...  \n",
       "249  A key observation is that students that attend...  \n",
       "252  With the teaching online experience from Sprin...  \n",
       "254  I was much better prepared in the Fall, but it...  \n",
       "256  Spring was all remote for us. Fall was hybrid....  \n",
       "\n",
       "[134 rows x 2 columns]"
      ]
     },
     "execution_count": 5,
     "metadata": {},
     "output_type": "execute_result"
    }
   ],
   "source": [
    "dffq37.dropna()"
   ]
  },
  {
   "cell_type": "code",
   "execution_count": 6,
   "metadata": {},
   "outputs": [
    {
     "name": "stdout",
     "output_type": "stream",
     "text": [
      "                                       AnonID  \\\n",
      "0    1e8060b7705f5ab8cef80aef430a42bbd078cd37   \n",
      "1    0f9cbec895df6de086762dc692abaa4227a35a79   \n",
      "2    e7d40dbb1ac4042a9b6ce7fd076aa556ab97c95a   \n",
      "3    24f70ec518e4904b58655d80170adaa3ed665cb3   \n",
      "4    a99c401ccd208e5abd3a32ca36aa0c557965e833   \n",
      "..                                        ...   \n",
      "662  489565e7a867c70f43102d4a2f0c005f81bb09f3   \n",
      "663  4540ad3665918fc3e3e3862d418b54f48fa1523d   \n",
      "664  6fcf6e1d4017a131eeec4d135fd93c5d121971ee   \n",
      "665  f8ae912e2c8f430086fc996f0bc75254b1a4f24f   \n",
      "666  c4a8c255398c68e10e65773d71e16cac568cb292   \n",
      "\n",
      "                                                 Q37_x  \\\n",
      "0                                                  NaN   \n",
      "1                                                  NaN   \n",
      "2                                                  NaN   \n",
      "3    Keep the videos short, keep extra example outs...   \n",
      "4                                                  NaN   \n",
      "..                                                 ...   \n",
      "662                                                NaN   \n",
      "663                                                NaN   \n",
      "664                                                NaN   \n",
      "665                                                NaN   \n",
      "666                                                NaN   \n",
      "\n",
      "                                                 Q37_y  \n",
      "0                                                  NaN  \n",
      "1                                                  NaN  \n",
      "2                                                  NaN  \n",
      "3                                                  NaN  \n",
      "4                                                  NaN  \n",
      "..                                                 ...  \n",
      "662  I set up some early semester times for student...  \n",
      "663                                                NaN  \n",
      "664                                                NaN  \n",
      "665                                                NaN  \n",
      "666  I'd say that online classes are significantly ...  \n",
      "\n",
      "[667 rows x 3 columns]\n"
     ]
    }
   ],
   "source": [
    "df=pd.merge(dfiq37,dffq37, how='outer', on=['AnonID'])\n",
    "print(df)"
   ]
  },
  {
   "cell_type": "code",
   "execution_count": 7,
   "metadata": {},
   "outputs": [],
   "source": [
    "df=df.dropna()"
   ]
  },
  {
   "cell_type": "code",
   "execution_count": 8,
   "metadata": {},
   "outputs": [
    {
     "data": {
      "text/html": [
       "<div>\n",
       "<style scoped>\n",
       "    .dataframe tbody tr th:only-of-type {\n",
       "        vertical-align: middle;\n",
       "    }\n",
       "\n",
       "    .dataframe tbody tr th {\n",
       "        vertical-align: top;\n",
       "    }\n",
       "\n",
       "    .dataframe thead th {\n",
       "        text-align: right;\n",
       "    }\n",
       "</style>\n",
       "<table border=\"1\" class=\"dataframe\">\n",
       "  <thead>\n",
       "    <tr style=\"text-align: right;\">\n",
       "      <th></th>\n",
       "      <th>AnonID</th>\n",
       "      <th>Q37</th>\n",
       "      <th>Q37f</th>\n",
       "    </tr>\n",
       "  </thead>\n",
       "  <tbody>\n",
       "    <tr>\n",
       "      <th>6</th>\n",
       "      <td>1b84a83ec311572f7ed0444cdc10298389ddde08</td>\n",
       "      <td>It was very time consuming.\\nI believe it is t...</td>\n",
       "      <td>On line lectures with student groups has prove...</td>\n",
       "    </tr>\n",
       "    <tr>\n",
       "      <th>18</th>\n",
       "      <td>a50698a97d20fb6e0e4158355faf2366f937f523</td>\n",
       "      <td>My transition to teaching online took a very s...</td>\n",
       "      <td>In Fall 2020 I taught a much larger class than...</td>\n",
       "    </tr>\n",
       "    <tr>\n",
       "      <th>33</th>\n",
       "      <td>ed3b0da502ea73e144a7e406dc95168311202678</td>\n",
       "      <td>The places where I have excelled in the past c...</td>\n",
       "      <td>It was much smoother as we were able to go int...</td>\n",
       "    </tr>\n",
       "    <tr>\n",
       "      <th>40</th>\n",
       "      <td>24fe6489988061ab596cfb601b4eb38d178f9484</td>\n",
       "      <td>Honestly I had seen it coming for about a mont...</td>\n",
       "      <td>In some ways it was exactly the same.  I antic...</td>\n",
       "    </tr>\n",
       "    <tr>\n",
       "      <th>41</th>\n",
       "      <td>65083f0fece21c69ff94a923ede566dfe6066d2d</td>\n",
       "      <td>The transition wasn't that difficult since man...</td>\n",
       "      <td>I had to work harder on making social connecti...</td>\n",
       "    </tr>\n",
       "    <tr>\n",
       "      <th>...</th>\n",
       "      <td>...</td>\n",
       "      <td>...</td>\n",
       "      <td>...</td>\n",
       "    </tr>\n",
       "    <tr>\n",
       "      <th>618</th>\n",
       "      <td>818b2a3cb28410bcbb135f1c7900506c2495219e</td>\n",
       "      <td>The biggest mistake I think we made was not ev...</td>\n",
       "      <td>In Spring 2020 I taught a large course (250 li...</td>\n",
       "    </tr>\n",
       "    <tr>\n",
       "      <th>639</th>\n",
       "      <td>2dc9d133c21b0e1834401b047ad98df314ff8fb2</td>\n",
       "      <td>A major disadvantage in quality and ability to...</td>\n",
       "      <td>Spring 2020 I had no mechanisms at all for rem...</td>\n",
       "    </tr>\n",
       "    <tr>\n",
       "      <th>646</th>\n",
       "      <td>ecb89d323b3791a501f374c7bc7f7b2128daf73c</td>\n",
       "      <td>This was not what you would call online teachi...</td>\n",
       "      <td>Our institution started online teaching in the...</td>\n",
       "    </tr>\n",
       "    <tr>\n",
       "      <th>647</th>\n",
       "      <td>a5101b3f95669cd1d5966e7f23386080511aff81</td>\n",
       "      <td>Although it was relatively straightforward to ...</td>\n",
       "      <td>My comfort level with teaching in-person went ...</td>\n",
       "    </tr>\n",
       "    <tr>\n",
       "      <th>648</th>\n",
       "      <td>98abca59c2f62ee9d90d9750453b4067346d200a</td>\n",
       "      <td>Teaching online has been exhausting and demora...</td>\n",
       "      <td>The election and covid have been huge stressor...</td>\n",
       "    </tr>\n",
       "  </tbody>\n",
       "</table>\n",
       "<p>100 rows × 3 columns</p>\n",
       "</div>"
      ],
      "text/plain": [
       "                                       AnonID  \\\n",
       "6    1b84a83ec311572f7ed0444cdc10298389ddde08   \n",
       "18   a50698a97d20fb6e0e4158355faf2366f937f523   \n",
       "33   ed3b0da502ea73e144a7e406dc95168311202678   \n",
       "40   24fe6489988061ab596cfb601b4eb38d178f9484   \n",
       "41   65083f0fece21c69ff94a923ede566dfe6066d2d   \n",
       "..                                        ...   \n",
       "618  818b2a3cb28410bcbb135f1c7900506c2495219e   \n",
       "639  2dc9d133c21b0e1834401b047ad98df314ff8fb2   \n",
       "646  ecb89d323b3791a501f374c7bc7f7b2128daf73c   \n",
       "647  a5101b3f95669cd1d5966e7f23386080511aff81   \n",
       "648  98abca59c2f62ee9d90d9750453b4067346d200a   \n",
       "\n",
       "                                                   Q37  \\\n",
       "6    It was very time consuming.\\nI believe it is t...   \n",
       "18   My transition to teaching online took a very s...   \n",
       "33   The places where I have excelled in the past c...   \n",
       "40   Honestly I had seen it coming for about a mont...   \n",
       "41   The transition wasn't that difficult since man...   \n",
       "..                                                 ...   \n",
       "618  The biggest mistake I think we made was not ev...   \n",
       "639  A major disadvantage in quality and ability to...   \n",
       "646  This was not what you would call online teachi...   \n",
       "647  Although it was relatively straightforward to ...   \n",
       "648  Teaching online has been exhausting and demora...   \n",
       "\n",
       "                                                  Q37f  \n",
       "6    On line lectures with student groups has prove...  \n",
       "18   In Fall 2020 I taught a much larger class than...  \n",
       "33   It was much smoother as we were able to go int...  \n",
       "40   In some ways it was exactly the same.  I antic...  \n",
       "41   I had to work harder on making social connecti...  \n",
       "..                                                 ...  \n",
       "618  In Spring 2020 I taught a large course (250 li...  \n",
       "639  Spring 2020 I had no mechanisms at all for rem...  \n",
       "646  Our institution started online teaching in the...  \n",
       "647  My comfort level with teaching in-person went ...  \n",
       "648  The election and covid have been huge stressor...  \n",
       "\n",
       "[100 rows x 3 columns]"
      ]
     },
     "execution_count": 8,
     "metadata": {},
     "output_type": "execute_result"
    }
   ],
   "source": [
    "df.rename(columns={'Q37_x':\"Q37\",'Q37_y':'Q37f'})"
   ]
  },
  {
   "cell_type": "code",
   "execution_count": 9,
   "metadata": {},
   "outputs": [
    {
     "name": "stderr",
     "output_type": "stream",
     "text": [
      "[nltk_data] Downloading package vader_lexicon to\n",
      "[nltk_data]     C:\\Users\\colin\\AppData\\Roaming\\nltk_data...\n",
      "[nltk_data]   Package vader_lexicon is already up-to-date!\n"
     ]
    }
   ],
   "source": [
    "import nltk\n",
    "nltk.download('vader_lexicon')\n",
    "from nltk.sentiment.vader import SentimentIntensityAnalyzer\n",
    "sentiment=SentimentIntensityAnalyzer()"
   ]
  },
  {
   "cell_type": "code",
   "execution_count": 10,
   "metadata": {},
   "outputs": [],
   "source": [
    "df['scores_i']=df['Q37_x'].apply(lambda Q37_x: sentiment.polarity_scores(Q37_x))"
   ]
  },
  {
   "cell_type": "code",
   "execution_count": 11,
   "metadata": {},
   "outputs": [],
   "source": [
    "df['scores_f']=df['Q37_y'].apply(lambda Q37_y: sentiment.polarity_scores(Q37_y))"
   ]
  },
  {
   "cell_type": "code",
   "execution_count": 12,
   "metadata": {},
   "outputs": [],
   "source": [
    "df['compound_i']=df['scores_i'].apply(lambda score_dict: score_dict['compound'])\n",
    "df['compound_f']=df['scores_f'].apply(lambda score_dict: score_dict['compound'])"
   ]
  },
  {
   "cell_type": "code",
   "execution_count": 13,
   "metadata": {},
   "outputs": [
    {
     "data": {
      "text/html": [
       "<div>\n",
       "<style scoped>\n",
       "    .dataframe tbody tr th:only-of-type {\n",
       "        vertical-align: middle;\n",
       "    }\n",
       "\n",
       "    .dataframe tbody tr th {\n",
       "        vertical-align: top;\n",
       "    }\n",
       "\n",
       "    .dataframe thead th {\n",
       "        text-align: right;\n",
       "    }\n",
       "</style>\n",
       "<table border=\"1\" class=\"dataframe\">\n",
       "  <thead>\n",
       "    <tr style=\"text-align: right;\">\n",
       "      <th></th>\n",
       "      <th>AnonID</th>\n",
       "      <th>Q37_x</th>\n",
       "      <th>Q37_y</th>\n",
       "      <th>scores_i</th>\n",
       "      <th>scores_f</th>\n",
       "      <th>compound_i</th>\n",
       "      <th>compound_f</th>\n",
       "    </tr>\n",
       "  </thead>\n",
       "  <tbody>\n",
       "    <tr>\n",
       "      <th>6</th>\n",
       "      <td>1b84a83ec311572f7ed0444cdc10298389ddde08</td>\n",
       "      <td>It was very time consuming.\\nI believe it is t...</td>\n",
       "      <td>On line lectures with student groups has prove...</td>\n",
       "      <td>{'neg': 0.0, 'neu': 0.888, 'pos': 0.112, 'comp...</td>\n",
       "      <td>{'neg': 0.0, 'neu': 0.805, 'pos': 0.195, 'comp...</td>\n",
       "      <td>0.4404</td>\n",
       "      <td>0.5256</td>\n",
       "    </tr>\n",
       "    <tr>\n",
       "      <th>18</th>\n",
       "      <td>a50698a97d20fb6e0e4158355faf2366f937f523</td>\n",
       "      <td>My transition to teaching online took a very s...</td>\n",
       "      <td>In Fall 2020 I taught a much larger class than...</td>\n",
       "      <td>{'neg': 0.0, 'neu': 0.862, 'pos': 0.138, 'comp...</td>\n",
       "      <td>{'neg': 0.139, 'neu': 0.712, 'pos': 0.149, 'co...</td>\n",
       "      <td>0.9008</td>\n",
       "      <td>-0.0258</td>\n",
       "    </tr>\n",
       "    <tr>\n",
       "      <th>33</th>\n",
       "      <td>ed3b0da502ea73e144a7e406dc95168311202678</td>\n",
       "      <td>The places where I have excelled in the past c...</td>\n",
       "      <td>It was much smoother as we were able to go int...</td>\n",
       "      <td>{'neg': 0.041, 'neu': 0.841, 'pos': 0.118, 'co...</td>\n",
       "      <td>{'neg': 0.033, 'neu': 0.892, 'pos': 0.075, 'co...</td>\n",
       "      <td>0.8419</td>\n",
       "      <td>0.4019</td>\n",
       "    </tr>\n",
       "    <tr>\n",
       "      <th>40</th>\n",
       "      <td>24fe6489988061ab596cfb601b4eb38d178f9484</td>\n",
       "      <td>Honestly I had seen it coming for about a mont...</td>\n",
       "      <td>In some ways it was exactly the same.  I antic...</td>\n",
       "      <td>{'neg': 0.032, 'neu': 0.896, 'pos': 0.071, 'co...</td>\n",
       "      <td>{'neg': 0.055, 'neu': 0.892, 'pos': 0.053, 'co...</td>\n",
       "      <td>0.4033</td>\n",
       "      <td>-0.0516</td>\n",
       "    </tr>\n",
       "    <tr>\n",
       "      <th>41</th>\n",
       "      <td>65083f0fece21c69ff94a923ede566dfe6066d2d</td>\n",
       "      <td>The transition wasn't that difficult since man...</td>\n",
       "      <td>I had to work harder on making social connecti...</td>\n",
       "      <td>{'neg': 0.0, 'neu': 0.913, 'pos': 0.087, 'comp...</td>\n",
       "      <td>{'neg': 0.0, 'neu': 1.0, 'pos': 0.0, 'compound...</td>\n",
       "      <td>0.6715</td>\n",
       "      <td>0.0000</td>\n",
       "    </tr>\n",
       "  </tbody>\n",
       "</table>\n",
       "</div>"
      ],
      "text/plain": [
       "                                      AnonID  \\\n",
       "6   1b84a83ec311572f7ed0444cdc10298389ddde08   \n",
       "18  a50698a97d20fb6e0e4158355faf2366f937f523   \n",
       "33  ed3b0da502ea73e144a7e406dc95168311202678   \n",
       "40  24fe6489988061ab596cfb601b4eb38d178f9484   \n",
       "41  65083f0fece21c69ff94a923ede566dfe6066d2d   \n",
       "\n",
       "                                                Q37_x  \\\n",
       "6   It was very time consuming.\\nI believe it is t...   \n",
       "18  My transition to teaching online took a very s...   \n",
       "33  The places where I have excelled in the past c...   \n",
       "40  Honestly I had seen it coming for about a mont...   \n",
       "41  The transition wasn't that difficult since man...   \n",
       "\n",
       "                                                Q37_y  \\\n",
       "6   On line lectures with student groups has prove...   \n",
       "18  In Fall 2020 I taught a much larger class than...   \n",
       "33  It was much smoother as we were able to go int...   \n",
       "40  In some ways it was exactly the same.  I antic...   \n",
       "41  I had to work harder on making social connecti...   \n",
       "\n",
       "                                             scores_i  \\\n",
       "6   {'neg': 0.0, 'neu': 0.888, 'pos': 0.112, 'comp...   \n",
       "18  {'neg': 0.0, 'neu': 0.862, 'pos': 0.138, 'comp...   \n",
       "33  {'neg': 0.041, 'neu': 0.841, 'pos': 0.118, 'co...   \n",
       "40  {'neg': 0.032, 'neu': 0.896, 'pos': 0.071, 'co...   \n",
       "41  {'neg': 0.0, 'neu': 0.913, 'pos': 0.087, 'comp...   \n",
       "\n",
       "                                             scores_f  compound_i  compound_f  \n",
       "6   {'neg': 0.0, 'neu': 0.805, 'pos': 0.195, 'comp...      0.4404      0.5256  \n",
       "18  {'neg': 0.139, 'neu': 0.712, 'pos': 0.149, 'co...      0.9008     -0.0258  \n",
       "33  {'neg': 0.033, 'neu': 0.892, 'pos': 0.075, 'co...      0.8419      0.4019  \n",
       "40  {'neg': 0.055, 'neu': 0.892, 'pos': 0.053, 'co...      0.4033     -0.0516  \n",
       "41  {'neg': 0.0, 'neu': 1.0, 'pos': 0.0, 'compound...      0.6715      0.0000  "
      ]
     },
     "execution_count": 13,
     "metadata": {},
     "output_type": "execute_result"
    }
   ],
   "source": [
    "df.head()"
   ]
  },
  {
   "cell_type": "code",
   "execution_count": 14,
   "metadata": {},
   "outputs": [
    {
     "name": "stdout",
     "output_type": "stream",
     "text": [
      "[ 0.4404  0.9008  0.8419  0.4033  0.6715 -0.2484 -0.7017 -0.6256 -0.3097\n",
      "  0.5106  0.9149  0.4404 -0.9455  0.1664  0.     -0.5804  0.     -0.2023\n",
      "  0.8481  0.6166  0.8016  0.3291  0.5256  0.0204  0.7745 -0.1591  0.93\n",
      " -0.9412  0.9287  0.7089  0.      0.6705  0.7553  0.4926 -0.5256  0.4391\n",
      "  0.1655  0.8519 -0.8126  0.1779 -0.4927  0.048  -0.926   0.7897  0.8091\n",
      " -0.9081  0.4975  0.      0.5842  0.701   0.4404 -0.0516  0.8437 -0.9177\n",
      "  0.243  -0.2725 -0.7425  0.753  -0.2467  0.1144 -0.664  -0.7894  0.8605\n",
      "  0.9042  0.      0.      0.701  -0.1419 -0.3555  0.4568  0.8833 -0.6369\n",
      " -0.5106  0.6712  0.9219  0.2144  0.9039  0.5549 -0.048  -0.8557  0.8807\n",
      " -0.6932  0.802  -0.8553  0.489  -0.4927  0.21    0.     -0.4005 -0.0975\n",
      "  0.7218 -0.0772  0.6908  0.8834 -0.296  -0.2755  0.296   0.6813 -0.6126\n",
      " -0.2763]\n"
     ]
    }
   ],
   "source": [
    "initial_scores=np.array(df['compound_i'].tolist())\n",
    "followup_scores=np.array(df['compound_f'].tolist())\n",
    "print(initial_scores)"
   ]
  },
  {
   "cell_type": "code",
   "execution_count": 15,
   "metadata": {},
   "outputs": [
    {
     "name": "stdout",
     "output_type": "stream",
     "text": [
      "[ 0.0852 -0.9266 -0.44   -0.4549 -0.6715  1.2275  0.7531  1.2115  1.3096\n",
      " -0.1691 -0.4934 -0.1672  1.5704  0.2834  0.8313  1.5455  0.4215  0.2023\n",
      " -1.7504 -1.1131  0.112   0.5151 -0.3482  0.8232  0.1853  0.6179  0.0123\n",
      "  0.0782 -0.9287 -1.2512 -0.4215 -0.6705 -0.8069  0.2724  0.0682 -0.1659\n",
      "  0.0368 -0.6496  0.4726  0.5594  1.3289  0.3553  0.926  -0.4606 -0.656\n",
      "  0.5681 -0.8061  0.8779 -0.6358 -1.1225  0.1965  0.3    -1.4004  1.4079\n",
      " -0.371   1.1919  0.5646  0.2315  0.2467 -0.2424  1.5544  1.499  -0.0645\n",
      " -1.4286  0.     -0.296   0.1976 -0.7966  0.2783  0.1681 -0.8833  0.6369\n",
      "  0.2228 -0.108   0.0628  0.5125  0.072  -0.7606  0.231  -0.1047 -1.2191\n",
      "  0.6598 -0.0674  1.6132 -1.3827  0.4669 -0.3145  0.3818  0.4005  0.5028\n",
      "  0.2041 -0.7597  0.2242  0.0798  1.1854  1.098   0.     -0.0564  0.5422\n",
      " -0.3361]\n"
     ]
    }
   ],
   "source": [
    "sentiment_change=followup_scores-initial_scores\n",
    "print(sentiment_change)"
   ]
  },
  {
   "cell_type": "code",
   "execution_count": 16,
   "metadata": {},
   "outputs": [
    {
     "data": {
      "image/png": "[encoded data removed]",
      "text/plain": [
       "<Figure size 432x288 with 1 Axes>"
      ]
     },
     "metadata": {
      "needs_background": "light"
     },
     "output_type": "display_data"
    }
   ],
   "source": [
    "plt.hist(sentiment_change, bins=12, histtype='step')\n",
    "plt.xlabel('Sentiment Score')\n",
    "plt.ylabel('Frequency')\n",
    "plt.title('Change in sentiment score')\n",
    "plt.savefig('Sentiment_changehist')\n",
    "plt.show()"
   ]
  },
  {
   "cell_type": "code",
   "execution_count": 17,
   "metadata": {},
   "outputs": [
    {
     "data": {
      "image/png": "[encoded data removed]",
      "text/plain": [
       "<Figure size 432x288 with 1 Axes>"
      ]
     },
     "metadata": {
      "needs_background": "light"
     },
     "output_type": "display_data"
    },
    {
     "data": {
      "image/png": "[encoded data removed]",
      "text/plain": [
       "<Figure size 432x288 with 1 Axes>"
      ]
     },
     "metadata": {
      "needs_background": "light"
     },
     "output_type": "display_data"
    }
   ],
   "source": [
    "plt.hist(initial_scores,bins=12,histtype='step')\n",
    "plt.xlabel('Sentiment Score')\n",
    "plt.ylabel('Frequency')\n",
    "plt.title('Initial Sentiment Scores')\n",
    "plt.savefig('Initialhist')\n",
    "plt.show()\n",
    "plt.hist(followup_scores,bins=12,histtype='step')\n",
    "plt.xlabel('Sentiment Score')\n",
    "plt.ylabel('Frequency')\n",
    "plt.title('Followup Sentiment Scores')\n",
    "plt.savefig('Followuphist')\n",
    "plt.show()"
   ]
  },
  {
   "cell_type": "code",
   "execution_count": 18,
   "metadata": {},
   "outputs": [
    {
     "data": {
      "text/plain": [
       "Text(0, 0.5, 'Frequency')"
      ]
     },
     "execution_count": 18,
     "metadata": {},
     "output_type": "execute_result"
    },
    {
     "data": {
      "image/png": "[encoded data removed]",
      "text/plain": [
       "<Figure size 432x288 with 2 Axes>"
      ]
     },
     "metadata": {
      "needs_background": "light"
     },
     "output_type": "display_data"
    }
   ],
   "source": [
    "fig, (ax1, ax2) = plt.subplots(2)\n",
    "ax1.hist(initial_scores, bins=12)\n",
    "ax2.hist(followup_scores,bins=12)\n",
    "plt.xlabel('Sentiment Score')\n",
    "plt.ylabel('Frequency')\n"
   ]
  },
  {
   "cell_type": "code",
   "execution_count": 19,
   "metadata": {},
   "outputs": [
    {
     "data": {
      "image/png": "[encoded data removed]",
      "text/plain": [
       "<Figure size 432x288 with 1 Axes>"
      ]
     },
     "metadata": {
      "needs_background": "light"
     },
     "output_type": "display_data"
    }
   ],
   "source": [
    "plt.hist(initial_scores, bins=12, alpha=0.5, label='x')\n",
    "plt.hist(followup_scores, bins=12, alpha=0.5, label='y')\n",
    "plt.legend(loc='upper right')\n",
    "plt.show()"
   ]
  },
  {
   "cell_type": "code",
   "execution_count": 20,
   "metadata": {},
   "outputs": [
    {
     "data": {
      "text/html": [
       "<div>\n",
       "<style scoped>\n",
       "    .dataframe tbody tr th:only-of-type {\n",
       "        vertical-align: middle;\n",
       "    }\n",
       "\n",
       "    .dataframe tbody tr th {\n",
       "        vertical-align: top;\n",
       "    }\n",
       "\n",
       "    .dataframe thead th {\n",
       "        text-align: right;\n",
       "    }\n",
       "</style>\n",
       "<table border=\"1\" class=\"dataframe\">\n",
       "  <thead>\n",
       "    <tr style=\"text-align: right;\">\n",
       "      <th></th>\n",
       "      <th>AnonID</th>\n",
       "      <th>Q37_x</th>\n",
       "      <th>Q37_y</th>\n",
       "      <th>scores_i</th>\n",
       "      <th>scores_f</th>\n",
       "      <th>compound_i</th>\n",
       "      <th>compound_f</th>\n",
       "      <th>sentiment_change</th>\n",
       "    </tr>\n",
       "  </thead>\n",
       "  <tbody>\n",
       "    <tr>\n",
       "      <th>6</th>\n",
       "      <td>1b84a83ec311572f7ed0444cdc10298389ddde08</td>\n",
       "      <td>It was very time consuming.\\nI believe it is t...</td>\n",
       "      <td>On line lectures with student groups has prove...</td>\n",
       "      <td>{'neg': 0.0, 'neu': 0.888, 'pos': 0.112, 'comp...</td>\n",
       "      <td>{'neg': 0.0, 'neu': 0.805, 'pos': 0.195, 'comp...</td>\n",
       "      <td>0.4404</td>\n",
       "      <td>0.5256</td>\n",
       "      <td>0.0852</td>\n",
       "    </tr>\n",
       "    <tr>\n",
       "      <th>18</th>\n",
       "      <td>a50698a97d20fb6e0e4158355faf2366f937f523</td>\n",
       "      <td>My transition to teaching online took a very s...</td>\n",
       "      <td>In Fall 2020 I taught a much larger class than...</td>\n",
       "      <td>{'neg': 0.0, 'neu': 0.862, 'pos': 0.138, 'comp...</td>\n",
       "      <td>{'neg': 0.139, 'neu': 0.712, 'pos': 0.149, 'co...</td>\n",
       "      <td>0.9008</td>\n",
       "      <td>-0.0258</td>\n",
       "      <td>-0.9266</td>\n",
       "    </tr>\n",
       "    <tr>\n",
       "      <th>33</th>\n",
       "      <td>ed3b0da502ea73e144a7e406dc95168311202678</td>\n",
       "      <td>The places where I have excelled in the past c...</td>\n",
       "      <td>It was much smoother as we were able to go int...</td>\n",
       "      <td>{'neg': 0.041, 'neu': 0.841, 'pos': 0.118, 'co...</td>\n",
       "      <td>{'neg': 0.033, 'neu': 0.892, 'pos': 0.075, 'co...</td>\n",
       "      <td>0.8419</td>\n",
       "      <td>0.4019</td>\n",
       "      <td>-0.4400</td>\n",
       "    </tr>\n",
       "    <tr>\n",
       "      <th>40</th>\n",
       "      <td>24fe6489988061ab596cfb601b4eb38d178f9484</td>\n",
       "      <td>Honestly I had seen it coming for about a mont...</td>\n",
       "      <td>In some ways it was exactly the same.  I antic...</td>\n",
       "      <td>{'neg': 0.032, 'neu': 0.896, 'pos': 0.071, 'co...</td>\n",
       "      <td>{'neg': 0.055, 'neu': 0.892, 'pos': 0.053, 'co...</td>\n",
       "      <td>0.4033</td>\n",
       "      <td>-0.0516</td>\n",
       "      <td>-0.4549</td>\n",
       "    </tr>\n",
       "    <tr>\n",
       "      <th>41</th>\n",
       "      <td>65083f0fece21c69ff94a923ede566dfe6066d2d</td>\n",
       "      <td>The transition wasn't that difficult since man...</td>\n",
       "      <td>I had to work harder on making social connecti...</td>\n",
       "      <td>{'neg': 0.0, 'neu': 0.913, 'pos': 0.087, 'comp...</td>\n",
       "      <td>{'neg': 0.0, 'neu': 1.0, 'pos': 0.0, 'compound...</td>\n",
       "      <td>0.6715</td>\n",
       "      <td>0.0000</td>\n",
       "      <td>-0.6715</td>\n",
       "    </tr>\n",
       "  </tbody>\n",
       "</table>\n",
       "</div>"
      ],
      "text/plain": [
       "                                      AnonID  \\\n",
       "6   1b84a83ec311572f7ed0444cdc10298389ddde08   \n",
       "18  a50698a97d20fb6e0e4158355faf2366f937f523   \n",
       "33  ed3b0da502ea73e144a7e406dc95168311202678   \n",
       "40  24fe6489988061ab596cfb601b4eb38d178f9484   \n",
       "41  65083f0fece21c69ff94a923ede566dfe6066d2d   \n",
       "\n",
       "                                                Q37_x  \\\n",
       "6   It was very time consuming.\\nI believe it is t...   \n",
       "18  My transition to teaching online took a very s...   \n",
       "33  The places where I have excelled in the past c...   \n",
       "40  Honestly I had seen it coming for about a mont...   \n",
       "41  The transition wasn't that difficult since man...   \n",
       "\n",
       "                                                Q37_y  \\\n",
       "6   On line lectures with student groups has prove...   \n",
       "18  In Fall 2020 I taught a much larger class than...   \n",
       "33  It was much smoother as we were able to go int...   \n",
       "40  In some ways it was exactly the same.  I antic...   \n",
       "41  I had to work harder on making social connecti...   \n",
       "\n",
       "                                             scores_i  \\\n",
       "6   {'neg': 0.0, 'neu': 0.888, 'pos': 0.112, 'comp...   \n",
       "18  {'neg': 0.0, 'neu': 0.862, 'pos': 0.138, 'comp...   \n",
       "33  {'neg': 0.041, 'neu': 0.841, 'pos': 0.118, 'co...   \n",
       "40  {'neg': 0.032, 'neu': 0.896, 'pos': 0.071, 'co...   \n",
       "41  {'neg': 0.0, 'neu': 0.913, 'pos': 0.087, 'comp...   \n",
       "\n",
       "                                             scores_f  compound_i  compound_f  \\\n",
       "6   {'neg': 0.0, 'neu': 0.805, 'pos': 0.195, 'comp...      0.4404      0.5256   \n",
       "18  {'neg': 0.139, 'neu': 0.712, 'pos': 0.149, 'co...      0.9008     -0.0258   \n",
       "33  {'neg': 0.033, 'neu': 0.892, 'pos': 0.075, 'co...      0.8419      0.4019   \n",
       "40  {'neg': 0.055, 'neu': 0.892, 'pos': 0.053, 'co...      0.4033     -0.0516   \n",
       "41  {'neg': 0.0, 'neu': 1.0, 'pos': 0.0, 'compound...      0.6715      0.0000   \n",
       "\n",
       "    sentiment_change  \n",
       "6             0.0852  \n",
       "18           -0.9266  \n",
       "33           -0.4400  \n",
       "40           -0.4549  \n",
       "41           -0.6715  "
      ]
     },
     "execution_count": 20,
     "metadata": {},
     "output_type": "execute_result"
    }
   ],
   "source": [
    "df['sentiment_change']=sentiment_change.tolist()\n",
    "df.head()"
   ]
  },
  {
   "cell_type": "code",
   "execution_count": 21,
   "metadata": {},
   "outputs": [],
   "source": [
    "mean=np.mean(sentiment_change)\n",
    "std=np.std(sentiment_change)\n",
    "quartiles=np.percentile(sentiment_change,[25,50,75])\n",
    "median=quartiles[1]\n",
    "iqr=quartiles[2]-quartiles[0]"
   ]
  },
  {
   "cell_type": "code",
   "execution_count": 22,
   "metadata": {},
   "outputs": [
    {
     "name": "stdout",
     "output_type": "stream",
     "text": [
      "0.084824 0.7526279686697803 0.09859999999999997 0.9479999999999998\n"
     ]
    }
   ],
   "source": [
    "print(mean,std,median,iqr)"
   ]
  },
  {
   "cell_type": "code",
   "execution_count": 23,
   "metadata": {},
   "outputs": [],
   "source": [
    "import scipy.stats as st"
   ]
  },
  {
   "cell_type": "code",
   "execution_count": 24,
   "metadata": {},
   "outputs": [],
   "source": [
    "compound_scores=sentiment_change.tolist()"
   ]
  },
  {
   "cell_type": "code",
   "execution_count": 25,
   "metadata": {},
   "outputs": [
    {
     "data": {
      "text/plain": [
       "(-0.06526605319271163, 0.23491405319271164)"
      ]
     },
     "execution_count": 25,
     "metadata": {},
     "output_type": "execute_result"
    }
   ],
   "source": [
    "st.t.interval(alpha=0.95, df=len(compound_scores)-1, loc=np.mean(compound_scores), scale=st.sem(compound_scores))"
   ]
  },
  {
   "cell_type": "code",
   "execution_count": 26,
   "metadata": {},
   "outputs": [
    {
     "data": {
      "text/plain": [
       "{'neg': 0.0, 'neu': 1.0, 'pos': 0.0, 'compound': 0.0}"
      ]
     },
     "execution_count": 26,
     "metadata": {},
     "output_type": "execute_result"
    }
   ],
   "source": [
    "sentiment.polarity_scores('I changed as little as possible. I did live video classes with a virtual whiteboard, with recordings for those who could not attend. Assignments were unchanged except labs were done virtually. Exams were take-home, and about half of the class was reported for academic dishonesty.')"
   ]
  },
  {
   "cell_type": "code",
   "execution_count": 27,
   "metadata": {},
   "outputs": [
    {
     "data": {
      "text/plain": [
       "{'neg': 0.251, 'neu': 0.749, 'pos': 0.0, 'compound': -0.7475}"
      ]
     },
     "execution_count": 27,
     "metadata": {},
     "output_type": "execute_result"
    }
   ],
   "source": [
    "sentiment.polarity_scores('This was one of the worst experiences of my life.  I would not wish this for anyone else to have to endure')"
   ]
  },
  {
   "cell_type": "code",
   "execution_count": 28,
   "metadata": {},
   "outputs": [
    {
     "data": {
      "text/plain": [
       "{'neg': 0.0, 'neu': 0.61, 'pos': 0.39, 'compound': 0.8625}"
      ]
     },
     "execution_count": 28,
     "metadata": {},
     "output_type": "execute_result"
    }
   ],
   "source": [
    "sentiment.polarity_scores('I fell in love with how great the campus was.  I want to spend the rest of my life here')"
   ]
  },
  {
   "cell_type": "code",
   "execution_count": null,
   "metadata": {},
   "outputs": [],
   "source": []
  }
 ],
 "metadata": {
  "kernelspec": {
   "display_name": "Python 3",
   "language": "python",
   "name": "python3"
  },
  "language_info": {
   "codemirror_mode": {
    "name": "ipython",
    "version": 3
   },
   "file_extension": ".py",
   "mimetype": "text/x-python",
   "name": "python",
   "nbconvert_exporter": "python",
   "pygments_lexer": "ipython3",
   "version": "3.8.5"
  }
 },
 "nbformat": 4,
 "nbformat_minor": 4
}
