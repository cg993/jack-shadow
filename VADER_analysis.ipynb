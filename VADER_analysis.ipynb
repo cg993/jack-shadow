{
 "cells": [
  {
   "cell_type": "code",
   "execution_count": 1,
   "metadata": {},
   "outputs": [],
   "source": [
    "import numpy as np\n",
    "import matplotlib.pyplot as plt\n",
    "import pandas as pd"
   ]
  },
  {
   "cell_type": "code",
   "execution_count": 2,
   "metadata": {},
   "outputs": [],
   "source": [
    "df=pd.read_csv('DataForNLP2.csv')"
   ]
  },
  {
   "cell_type": "code",
   "execution_count": 3,
   "metadata": {},
   "outputs": [
    {
     "data": {
      "text/html": [
       "<div>\n",
       "<style scoped>\n",
       "    .dataframe tbody tr th:only-of-type {\n",
       "        vertical-align: middle;\n",
       "    }\n",
       "\n",
       "    .dataframe tbody tr th {\n",
       "        vertical-align: top;\n",
       "    }\n",
       "\n",
       "    .dataframe thead th {\n",
       "        text-align: right;\n",
       "    }\n",
       "</style>\n",
       "<table border=\"1\" class=\"dataframe\">\n",
       "  <thead>\n",
       "    <tr style=\"text-align: right;\">\n",
       "      <th></th>\n",
       "      <th>Q3</th>\n",
       "      <th>Q4</th>\n",
       "      <th>Q5</th>\n",
       "      <th>Q6</th>\n",
       "      <th>Q7</th>\n",
       "      <th>Q8</th>\n",
       "      <th>Q16</th>\n",
       "      <th>Q40</th>\n",
       "      <th>Q37</th>\n",
       "    </tr>\n",
       "  </thead>\n",
       "  <tbody>\n",
       "    <tr>\n",
       "      <th>0</th>\n",
       "      <td>Four Year Private College/University</td>\n",
       "      <td>Bachelor's</td>\n",
       "      <td>Minority-Serving Institution,Urban Institution...</td>\n",
       "      <td>1</td>\n",
       "      <td>200 or more</td>\n",
       "      <td>I have never taught online or in a blended for...</td>\n",
       "      <td>1-2 weeks</td>\n",
       "      <td>NaN</td>\n",
       "      <td>Keep the videos short, keep extra example outs...</td>\n",
       "    </tr>\n",
       "    <tr>\n",
       "      <th>1</th>\n",
       "      <td>Four Year Private College/University</td>\n",
       "      <td>Ph.D.</td>\n",
       "      <td>Urban Institution</td>\n",
       "      <td>1</td>\n",
       "      <td>101-200</td>\n",
       "      <td>I have never taught online or in a blended for...</td>\n",
       "      <td>3-4 weeks</td>\n",
       "      <td>NaN</td>\n",
       "      <td>It was very time consuming.\\nI believe it is t...</td>\n",
       "    </tr>\n",
       "    <tr>\n",
       "      <th>2</th>\n",
       "      <td>Four Year Public College/University</td>\n",
       "      <td>Ph.D.</td>\n",
       "      <td>Hispanic-Serving Institution</td>\n",
       "      <td>3</td>\n",
       "      <td>200 or more</td>\n",
       "      <td>I have never taught online or in a blended for...</td>\n",
       "      <td>0-2 days</td>\n",
       "      <td>NaN</td>\n",
       "      <td>Horrible experience. I am seriously considerin...</td>\n",
       "    </tr>\n",
       "    <tr>\n",
       "      <th>3</th>\n",
       "      <td>Four Year Public College/University</td>\n",
       "      <td>Ph.D.</td>\n",
       "      <td>Urban Institution</td>\n",
       "      <td>1</td>\n",
       "      <td>101-200</td>\n",
       "      <td>I have never taught online or in a blended for...</td>\n",
       "      <td>3-4 weeks</td>\n",
       "      <td>NaN</td>\n",
       "      <td>1 needed new equipment paid for  by me\\nhad to...</td>\n",
       "    </tr>\n",
       "    <tr>\n",
       "      <th>4</th>\n",
       "      <td>Four Year Public College/University</td>\n",
       "      <td>Ph.D.</td>\n",
       "      <td>Rural Institution</td>\n",
       "      <td>1</td>\n",
       "      <td>21-35</td>\n",
       "      <td>I have never taught online or in a blended for...</td>\n",
       "      <td>3-4 days</td>\n",
       "      <td>NaN</td>\n",
       "      <td>I was familiar with Zoom from video conferenci...</td>\n",
       "    </tr>\n",
       "  </tbody>\n",
       "</table>\n",
       "</div>"
      ],
      "text/plain": [
       "                                     Q3          Q4  \\\n",
       "0  Four Year Private College/University  Bachelor's   \n",
       "1  Four Year Private College/University       Ph.D.   \n",
       "2   Four Year Public College/University       Ph.D.   \n",
       "3   Four Year Public College/University       Ph.D.   \n",
       "4   Four Year Public College/University       Ph.D.   \n",
       "\n",
       "                                                  Q5 Q6           Q7  \\\n",
       "0  Minority-Serving Institution,Urban Institution...  1  200 or more   \n",
       "1                                  Urban Institution  1      101-200   \n",
       "2                       Hispanic-Serving Institution  3  200 or more   \n",
       "3                                  Urban Institution  1      101-200   \n",
       "4                                  Rural Institution  1        21-35   \n",
       "\n",
       "                                                  Q8        Q16  Q40  \\\n",
       "0  I have never taught online or in a blended for...  1-2 weeks  NaN   \n",
       "1  I have never taught online or in a blended for...  3-4 weeks  NaN   \n",
       "2  I have never taught online or in a blended for...   0-2 days  NaN   \n",
       "3  I have never taught online or in a blended for...  3-4 weeks  NaN   \n",
       "4  I have never taught online or in a blended for...   3-4 days  NaN   \n",
       "\n",
       "                                                 Q37  \n",
       "0  Keep the videos short, keep extra example outs...  \n",
       "1  It was very time consuming.\\nI believe it is t...  \n",
       "2  Horrible experience. I am seriously considerin...  \n",
       "3  1 needed new equipment paid for  by me\\nhad to...  \n",
       "4  I was familiar with Zoom from video conferenci...  "
      ]
     },
     "execution_count": 3,
     "metadata": {},
     "output_type": "execute_result"
    }
   ],
   "source": [
    "df.head()"
   ]
  },
  {
   "cell_type": "code",
   "execution_count": 4,
   "metadata": {},
   "outputs": [],
   "source": [
    "response=df['Q37'].tolist()"
   ]
  },
  {
   "cell_type": "code",
   "execution_count": 5,
   "metadata": {},
   "outputs": [
    {
     "name": "stderr",
     "output_type": "stream",
     "text": [
      "[nltk_data] Downloading package vader_lexicon to\n",
      "[nltk_data]     C:\\Users\\colin\\AppData\\Roaming\\nltk_data...\n",
      "[nltk_data]   Package vader_lexicon is already up-to-date!\n"
     ]
    }
   ],
   "source": [
    "import nltk\n",
    "nltk.download('vader_lexicon')\n",
    "from nltk.sentiment.vader import SentimentIntensityAnalyzer\n",
    "sentiment=SentimentIntensityAnalyzer()"
   ]
  },
  {
   "cell_type": "code",
   "execution_count": 6,
   "metadata": {},
   "outputs": [],
   "source": [
    "df['scores']=df['Q37'].apply(lambda Q37: sentiment.polarity_scores(Q37))"
   ]
  },
  {
   "cell_type": "code",
   "execution_count": 7,
   "metadata": {},
   "outputs": [
    {
     "data": {
      "text/html": [
       "<div>\n",
       "<style scoped>\n",
       "    .dataframe tbody tr th:only-of-type {\n",
       "        vertical-align: middle;\n",
       "    }\n",
       "\n",
       "    .dataframe tbody tr th {\n",
       "        vertical-align: top;\n",
       "    }\n",
       "\n",
       "    .dataframe thead th {\n",
       "        text-align: right;\n",
       "    }\n",
       "</style>\n",
       "<table border=\"1\" class=\"dataframe\">\n",
       "  <thead>\n",
       "    <tr style=\"text-align: right;\">\n",
       "      <th></th>\n",
       "      <th>Q3</th>\n",
       "      <th>Q4</th>\n",
       "      <th>Q5</th>\n",
       "      <th>Q6</th>\n",
       "      <th>Q7</th>\n",
       "      <th>Q8</th>\n",
       "      <th>Q16</th>\n",
       "      <th>Q40</th>\n",
       "      <th>Q37</th>\n",
       "      <th>scores</th>\n",
       "    </tr>\n",
       "  </thead>\n",
       "  <tbody>\n",
       "    <tr>\n",
       "      <th>0</th>\n",
       "      <td>Four Year Private College/University</td>\n",
       "      <td>Bachelor's</td>\n",
       "      <td>Minority-Serving Institution,Urban Institution...</td>\n",
       "      <td>1</td>\n",
       "      <td>200 or more</td>\n",
       "      <td>I have never taught online or in a blended for...</td>\n",
       "      <td>1-2 weeks</td>\n",
       "      <td>NaN</td>\n",
       "      <td>Keep the videos short, keep extra example outs...</td>\n",
       "      <td>{'neg': 0.077, 'neu': 0.856, 'pos': 0.066, 'co...</td>\n",
       "    </tr>\n",
       "    <tr>\n",
       "      <th>1</th>\n",
       "      <td>Four Year Private College/University</td>\n",
       "      <td>Ph.D.</td>\n",
       "      <td>Urban Institution</td>\n",
       "      <td>1</td>\n",
       "      <td>101-200</td>\n",
       "      <td>I have never taught online or in a blended for...</td>\n",
       "      <td>3-4 weeks</td>\n",
       "      <td>NaN</td>\n",
       "      <td>It was very time consuming.\\nI believe it is t...</td>\n",
       "      <td>{'neg': 0.0, 'neu': 0.888, 'pos': 0.112, 'comp...</td>\n",
       "    </tr>\n",
       "    <tr>\n",
       "      <th>2</th>\n",
       "      <td>Four Year Public College/University</td>\n",
       "      <td>Ph.D.</td>\n",
       "      <td>Hispanic-Serving Institution</td>\n",
       "      <td>3</td>\n",
       "      <td>200 or more</td>\n",
       "      <td>I have never taught online or in a blended for...</td>\n",
       "      <td>0-2 days</td>\n",
       "      <td>NaN</td>\n",
       "      <td>Horrible experience. I am seriously considerin...</td>\n",
       "      <td>{'neg': 0.51, 'neu': 0.49, 'pos': 0.0, 'compou...</td>\n",
       "    </tr>\n",
       "    <tr>\n",
       "      <th>3</th>\n",
       "      <td>Four Year Public College/University</td>\n",
       "      <td>Ph.D.</td>\n",
       "      <td>Urban Institution</td>\n",
       "      <td>1</td>\n",
       "      <td>101-200</td>\n",
       "      <td>I have never taught online or in a blended for...</td>\n",
       "      <td>3-4 weeks</td>\n",
       "      <td>NaN</td>\n",
       "      <td>1 needed new equipment paid for  by me\\nhad to...</td>\n",
       "      <td>{'neg': 0.094, 'neu': 0.906, 'pos': 0.0, 'comp...</td>\n",
       "    </tr>\n",
       "    <tr>\n",
       "      <th>4</th>\n",
       "      <td>Four Year Public College/University</td>\n",
       "      <td>Ph.D.</td>\n",
       "      <td>Rural Institution</td>\n",
       "      <td>1</td>\n",
       "      <td>21-35</td>\n",
       "      <td>I have never taught online or in a blended for...</td>\n",
       "      <td>3-4 days</td>\n",
       "      <td>NaN</td>\n",
       "      <td>I was familiar with Zoom from video conferenci...</td>\n",
       "      <td>{'neg': 0.065, 'neu': 0.848, 'pos': 0.087, 'co...</td>\n",
       "    </tr>\n",
       "  </tbody>\n",
       "</table>\n",
       "</div>"
      ],
      "text/plain": [
       "                                     Q3          Q4  \\\n",
       "0  Four Year Private College/University  Bachelor's   \n",
       "1  Four Year Private College/University       Ph.D.   \n",
       "2   Four Year Public College/University       Ph.D.   \n",
       "3   Four Year Public College/University       Ph.D.   \n",
       "4   Four Year Public College/University       Ph.D.   \n",
       "\n",
       "                                                  Q5 Q6           Q7  \\\n",
       "0  Minority-Serving Institution,Urban Institution...  1  200 or more   \n",
       "1                                  Urban Institution  1      101-200   \n",
       "2                       Hispanic-Serving Institution  3  200 or more   \n",
       "3                                  Urban Institution  1      101-200   \n",
       "4                                  Rural Institution  1        21-35   \n",
       "\n",
       "                                                  Q8        Q16  Q40  \\\n",
       "0  I have never taught online or in a blended for...  1-2 weeks  NaN   \n",
       "1  I have never taught online or in a blended for...  3-4 weeks  NaN   \n",
       "2  I have never taught online or in a blended for...   0-2 days  NaN   \n",
       "3  I have never taught online or in a blended for...  3-4 weeks  NaN   \n",
       "4  I have never taught online or in a blended for...   3-4 days  NaN   \n",
       "\n",
       "                                                 Q37  \\\n",
       "0  Keep the videos short, keep extra example outs...   \n",
       "1  It was very time consuming.\\nI believe it is t...   \n",
       "2  Horrible experience. I am seriously considerin...   \n",
       "3  1 needed new equipment paid for  by me\\nhad to...   \n",
       "4  I was familiar with Zoom from video conferenci...   \n",
       "\n",
       "                                              scores  \n",
       "0  {'neg': 0.077, 'neu': 0.856, 'pos': 0.066, 'co...  \n",
       "1  {'neg': 0.0, 'neu': 0.888, 'pos': 0.112, 'comp...  \n",
       "2  {'neg': 0.51, 'neu': 0.49, 'pos': 0.0, 'compou...  \n",
       "3  {'neg': 0.094, 'neu': 0.906, 'pos': 0.0, 'comp...  \n",
       "4  {'neg': 0.065, 'neu': 0.848, 'pos': 0.087, 'co...  "
      ]
     },
     "execution_count": 7,
     "metadata": {},
     "output_type": "execute_result"
    }
   ],
   "source": [
    "df.head()"
   ]
  },
  {
   "cell_type": "code",
   "execution_count": 8,
   "metadata": {},
   "outputs": [
    {
     "data": {
      "text/plain": [
       "{'neg': 0.0, 'neu': 0.888, 'pos': 0.112, 'compound': 0.4404}"
      ]
     },
     "execution_count": 8,
     "metadata": {},
     "output_type": "execute_result"
    }
   ],
   "source": [
    "sentiment.polarity_scores(response[1])"
   ]
  },
  {
   "cell_type": "code",
   "execution_count": 9,
   "metadata": {},
   "outputs": [
    {
     "data": {
      "text/html": [
       "<div>\n",
       "<style scoped>\n",
       "    .dataframe tbody tr th:only-of-type {\n",
       "        vertical-align: middle;\n",
       "    }\n",
       "\n",
       "    .dataframe tbody tr th {\n",
       "        vertical-align: top;\n",
       "    }\n",
       "\n",
       "    .dataframe thead th {\n",
       "        text-align: right;\n",
       "    }\n",
       "</style>\n",
       "<table border=\"1\" class=\"dataframe\">\n",
       "  <thead>\n",
       "    <tr style=\"text-align: right;\">\n",
       "      <th></th>\n",
       "      <th>Q3</th>\n",
       "      <th>Q4</th>\n",
       "      <th>Q5</th>\n",
       "      <th>Q6</th>\n",
       "      <th>Q7</th>\n",
       "      <th>Q8</th>\n",
       "      <th>Q16</th>\n",
       "      <th>Q40</th>\n",
       "      <th>Q37</th>\n",
       "      <th>scores</th>\n",
       "      <th>compound</th>\n",
       "    </tr>\n",
       "  </thead>\n",
       "  <tbody>\n",
       "    <tr>\n",
       "      <th>0</th>\n",
       "      <td>Four Year Private College/University</td>\n",
       "      <td>Bachelor's</td>\n",
       "      <td>Minority-Serving Institution,Urban Institution...</td>\n",
       "      <td>1</td>\n",
       "      <td>200 or more</td>\n",
       "      <td>I have never taught online or in a blended for...</td>\n",
       "      <td>1-2 weeks</td>\n",
       "      <td>NaN</td>\n",
       "      <td>Keep the videos short, keep extra example outs...</td>\n",
       "      <td>{'neg': 0.077, 'neu': 0.856, 'pos': 0.066, 'co...</td>\n",
       "      <td>0.0660</td>\n",
       "    </tr>\n",
       "    <tr>\n",
       "      <th>1</th>\n",
       "      <td>Four Year Private College/University</td>\n",
       "      <td>Ph.D.</td>\n",
       "      <td>Urban Institution</td>\n",
       "      <td>1</td>\n",
       "      <td>101-200</td>\n",
       "      <td>I have never taught online or in a blended for...</td>\n",
       "      <td>3-4 weeks</td>\n",
       "      <td>NaN</td>\n",
       "      <td>It was very time consuming.\\nI believe it is t...</td>\n",
       "      <td>{'neg': 0.0, 'neu': 0.888, 'pos': 0.112, 'comp...</td>\n",
       "      <td>0.4404</td>\n",
       "    </tr>\n",
       "    <tr>\n",
       "      <th>2</th>\n",
       "      <td>Four Year Public College/University</td>\n",
       "      <td>Ph.D.</td>\n",
       "      <td>Hispanic-Serving Institution</td>\n",
       "      <td>3</td>\n",
       "      <td>200 or more</td>\n",
       "      <td>I have never taught online or in a blended for...</td>\n",
       "      <td>0-2 days</td>\n",
       "      <td>NaN</td>\n",
       "      <td>Horrible experience. I am seriously considerin...</td>\n",
       "      <td>{'neg': 0.51, 'neu': 0.49, 'pos': 0.0, 'compou...</td>\n",
       "      <td>-0.6369</td>\n",
       "    </tr>\n",
       "    <tr>\n",
       "      <th>3</th>\n",
       "      <td>Four Year Public College/University</td>\n",
       "      <td>Ph.D.</td>\n",
       "      <td>Urban Institution</td>\n",
       "      <td>1</td>\n",
       "      <td>101-200</td>\n",
       "      <td>I have never taught online or in a blended for...</td>\n",
       "      <td>3-4 weeks</td>\n",
       "      <td>NaN</td>\n",
       "      <td>1 needed new equipment paid for  by me\\nhad to...</td>\n",
       "      <td>{'neg': 0.094, 'neu': 0.906, 'pos': 0.0, 'comp...</td>\n",
       "      <td>-0.4404</td>\n",
       "    </tr>\n",
       "    <tr>\n",
       "      <th>4</th>\n",
       "      <td>Four Year Public College/University</td>\n",
       "      <td>Ph.D.</td>\n",
       "      <td>Rural Institution</td>\n",
       "      <td>1</td>\n",
       "      <td>21-35</td>\n",
       "      <td>I have never taught online or in a blended for...</td>\n",
       "      <td>3-4 days</td>\n",
       "      <td>NaN</td>\n",
       "      <td>I was familiar with Zoom from video conferenci...</td>\n",
       "      <td>{'neg': 0.065, 'neu': 0.848, 'pos': 0.087, 'co...</td>\n",
       "      <td>0.4364</td>\n",
       "    </tr>\n",
       "  </tbody>\n",
       "</table>\n",
       "</div>"
      ],
      "text/plain": [
       "                                     Q3          Q4  \\\n",
       "0  Four Year Private College/University  Bachelor's   \n",
       "1  Four Year Private College/University       Ph.D.   \n",
       "2   Four Year Public College/University       Ph.D.   \n",
       "3   Four Year Public College/University       Ph.D.   \n",
       "4   Four Year Public College/University       Ph.D.   \n",
       "\n",
       "                                                  Q5 Q6           Q7  \\\n",
       "0  Minority-Serving Institution,Urban Institution...  1  200 or more   \n",
       "1                                  Urban Institution  1      101-200   \n",
       "2                       Hispanic-Serving Institution  3  200 or more   \n",
       "3                                  Urban Institution  1      101-200   \n",
       "4                                  Rural Institution  1        21-35   \n",
       "\n",
       "                                                  Q8        Q16  Q40  \\\n",
       "0  I have never taught online or in a blended for...  1-2 weeks  NaN   \n",
       "1  I have never taught online or in a blended for...  3-4 weeks  NaN   \n",
       "2  I have never taught online or in a blended for...   0-2 days  NaN   \n",
       "3  I have never taught online or in a blended for...  3-4 weeks  NaN   \n",
       "4  I have never taught online or in a blended for...   3-4 days  NaN   \n",
       "\n",
       "                                                 Q37  \\\n",
       "0  Keep the videos short, keep extra example outs...   \n",
       "1  It was very time consuming.\\nI believe it is t...   \n",
       "2  Horrible experience. I am seriously considerin...   \n",
       "3  1 needed new equipment paid for  by me\\nhad to...   \n",
       "4  I was familiar with Zoom from video conferenci...   \n",
       "\n",
       "                                              scores  compound  \n",
       "0  {'neg': 0.077, 'neu': 0.856, 'pos': 0.066, 'co...    0.0660  \n",
       "1  {'neg': 0.0, 'neu': 0.888, 'pos': 0.112, 'comp...    0.4404  \n",
       "2  {'neg': 0.51, 'neu': 0.49, 'pos': 0.0, 'compou...   -0.6369  \n",
       "3  {'neg': 0.094, 'neu': 0.906, 'pos': 0.0, 'comp...   -0.4404  \n",
       "4  {'neg': 0.065, 'neu': 0.848, 'pos': 0.087, 'co...    0.4364  "
      ]
     },
     "execution_count": 9,
     "metadata": {},
     "output_type": "execute_result"
    }
   ],
   "source": [
    "df['compound']=df['scores'].apply(lambda score_dict: score_dict['compound'])\n",
    "df.head()"
   ]
  },
  {
   "cell_type": "code",
   "execution_count": 10,
   "metadata": {},
   "outputs": [
    {
     "name": "stdout",
     "output_type": "stream",
     "text": [
      "[0.066, 0.4404, -0.6369, -0.4404, 0.4364, -0.4019, -0.8214, 0.4019, 0.9008, -0.4926, 0.2023, -0.849, -0.8042, 0.34, -0.4019, 0.3382, 0.8419, 0.3108, -0.9051, 0.4033, 0.6715, 0.7203, -0.2484, -0.128, -0.7017, 0.3182, -0.6256, -0.1546, 0.9153, -0.3097, 0.4951, 0.5984, 0.8104, 0.4404, 0.5106, 0.9149, 0.8854, 0.2263, -0.4323, 0.7906, 0.1263, -0.4398, 0.7861, 0.8705, 0.4404, -0.9455, 0.4703, 0.9193, 0.9413, 0.7328, 0.1664, -0.101, 0.0, 0.0, -0.7305, -0.2533, 0.4536, 0.8225, 0.9964, 0.0, -0.653, -0.97, -0.4019, -0.5804, 0.0, -0.2975, 0.0, -0.2023, 0.8481, -0.7777, 0.9359, 0.0, 0.6166, 0.8016, 0.3291, -0.967, 0.223, 0.936, 0.5256, 0.0204, 0.7745, -0.1591, 0.606, 0.5994, 0.93, -0.9412, 0.9287, 0.7089, 0.768, 0.0, 0.5423, 0.9217, 0.7501, 0.2734, 0.6705, -0.3535, 0.7537, 0.936, 0.7553, 0.4767, -0.7269, -0.0992, 0.8218, 0.4926, 0.8656, 0.0, 0.8917, 0.6526, -0.8764, 0.3832, -0.5256, -0.2966, -0.3284, 0.905, 0.8122, -0.8106, 0.875, 0.4391, 0.1655, 0.9675, -0.1511, 0.8519, -0.5106, 0.8287, -0.8126, 0.7778, 0.6387, -0.3566, 0.1779, -0.4927, 0.048, -0.926, 0.7897, -0.8462, 0.3291, -0.8478, -0.2263, 0.8091, 0.6262, -0.9081, -0.4019, 0.4975, -0.7579, 0.0, 0.9643, 0.3071, 0.5842, 0.3017, 0.701, -0.2592, 0.6705, 0.5927, 0.3182, -0.4874, 0.4404, -0.0516, -0.5994, 0.8437, 0.4201, -0.9177, 0.0772, 0.1531, -0.8127, 0.2944, -0.2617, -0.4215, 0.3818, 0.243, 0.8402, 0.8309, 0.0516, 0.0, 0.4019, -0.7096, -0.4225, 0.0258, -0.4754, 0.9134, -0.2725, 0.9541, -0.0772, 0.8818, 0.0, -0.8946, 0.5563, 0.0, 0.2732, 0.7453, -0.7425, 0.34, 0.93, 0.753, 0.1027, 0.6705, 0.0, -0.3384, 0.4945, 0.0, -0.2467, 0.7269, -0.5423, 0.1144, 0.1429, -0.6903, -0.664, 0.3947, 0.5388, 0.0387, -0.4215, 0.7425, -0.7894, 0.8605, 0.9042, -0.5115, 0.9651, 0.7003, 0.0, 0.0, 0.8035, -0.6106, 0.2516, 0.743, -0.5994, 0.701, 0.7003, 0.0, 0.9193, -0.1419, -0.3555, 0.4568, 0.8833, 0.7827, 0.6486, 0.8479, -0.3905, -0.8979, 0.6274, 0.4588, -0.5081, 0.4019, 0.0, 0.3612, -0.6369, -0.5106, 0.6712, 0.8126, 0.1027, -0.0644, 0.6698, -0.765, 0.9219, 0.9201, -0.3951, 0.9527, -0.1027, 0.8593, 0.2732, 0.4939, 0.2144, -0.4404, 0.9039, 0.8439, 0.5549, -0.048, 0.5927, 0.8834, 0.8622, 0.802, -0.8557, 0.9361, -0.7582, 0.8807, -0.6932, -0.7783, 0.802, -0.8553, 0.0258, 0.6597, 0.489, -0.0387, -0.6632, -0.3804, 0.2023, 0.0516, -0.2638, -0.3753, -0.6705, 0.0, -0.6779, 0.3265, -0.2023, 0.2263, 0.8271, -0.6187, 0.1779, -0.7506, 0.0, 0.6124, -0.5927, 0.4019, 0.1045, 0.9732, 0.4588, 0.8271, -0.4927, 0.21, 0.7184, 0.3903, 0.0, -0.3612, 0.1901, 0.6908, -0.4005, -0.0975, 0.7218, 0.6353, 0.0, -0.0772, 0.3089, -0.4188, -0.8625, 0.6908, 0.3023, 0.296, 0.8834, -0.5367, 0.4927, -0.25, 0.4215, -0.5563, -0.1027, 0.7992, 0.3384, 0.1877, -0.296, -0.2755, -0.5082, 0.0, 0.9886, 0.0, -0.6643, -0.9486, 0.9532, -0.0644, 0.6003, -0.1263, 0.4902, 0.3968, 0.296, 0.8428, 0.3857, 0.6408, 0.8177, 0.6813, -0.6126, -0.2763, -0.7574, 0.818, 0.7437, 0.4824, 0.0, 0.886, -0.9246, -0.2263]\n"
     ]
    }
   ],
   "source": [
    "compound_scores=df['compound'].tolist()\n",
    "print(compound_scores)"
   ]
  },
  {
   "cell_type": "code",
   "execution_count": 11,
   "metadata": {},
   "outputs": [
    {
     "data": {
      "image/png": "[encoded data removed]",
      "text/plain": [
       "<Figure size 432x288 with 1 Axes>"
      ]
     },
     "metadata": {
      "needs_background": "light"
     },
     "output_type": "display_data"
    }
   ],
   "source": [
    "plt.hist(compound_scores, bins=20, histtype='step')\n",
    "plt.xlabel('Compound score')\n",
    "plt.ylabel('Frequency')\n",
    "plt.title('Compound Sentiment Score of COVID Response Data')\n",
    "plt.savefig('compound_sentiment_hist.pdf')\n",
    "plt.show()"
   ]
  },
  {
   "cell_type": "code",
   "execution_count": 12,
   "metadata": {},
   "outputs": [],
   "source": [
    "compound_sc=np.array(compound_scores)"
   ]
  },
  {
   "cell_type": "code",
   "execution_count": 13,
   "metadata": {},
   "outputs": [
    {
     "name": "stdout",
     "output_type": "stream",
     "text": [
      "[ 0.066   0.4404 -0.6369 -0.4404  0.4364 -0.4019 -0.8214  0.4019  0.9008\n",
      " -0.4926  0.2023 -0.849  -0.8042  0.34   -0.4019  0.3382  0.8419  0.3108\n",
      " -0.9051  0.4033  0.6715  0.7203 -0.2484 -0.128  -0.7017  0.3182 -0.6256\n",
      " -0.1546  0.9153 -0.3097  0.4951  0.5984  0.8104  0.4404  0.5106  0.9149\n",
      "  0.8854  0.2263 -0.4323  0.7906  0.1263 -0.4398  0.7861  0.8705  0.4404\n",
      " -0.9455  0.4703  0.9193  0.9413  0.7328  0.1664 -0.101   0.      0.\n",
      " -0.7305 -0.2533  0.4536  0.8225  0.9964  0.     -0.653  -0.97   -0.4019\n",
      " -0.5804  0.     -0.2975  0.     -0.2023  0.8481 -0.7777  0.9359  0.\n",
      "  0.6166  0.8016  0.3291 -0.967   0.223   0.936   0.5256  0.0204  0.7745\n",
      " -0.1591  0.606   0.5994  0.93   -0.9412  0.9287  0.7089  0.768   0.\n",
      "  0.5423  0.9217  0.7501  0.2734  0.6705 -0.3535  0.7537  0.936   0.7553\n",
      "  0.4767 -0.7269 -0.0992  0.8218  0.4926  0.8656  0.      0.8917  0.6526\n",
      " -0.8764  0.3832 -0.5256 -0.2966 -0.3284  0.905   0.8122 -0.8106  0.875\n",
      "  0.4391  0.1655  0.9675 -0.1511  0.8519 -0.5106  0.8287 -0.8126  0.7778\n",
      "  0.6387 -0.3566  0.1779 -0.4927  0.048  -0.926   0.7897 -0.8462  0.3291\n",
      " -0.8478 -0.2263  0.8091  0.6262 -0.9081 -0.4019  0.4975 -0.7579  0.\n",
      "  0.9643  0.3071  0.5842  0.3017  0.701  -0.2592  0.6705  0.5927  0.3182\n",
      " -0.4874  0.4404 -0.0516 -0.5994  0.8437  0.4201 -0.9177  0.0772  0.1531\n",
      " -0.8127  0.2944 -0.2617 -0.4215  0.3818  0.243   0.8402  0.8309  0.0516\n",
      "  0.      0.4019 -0.7096 -0.4225  0.0258 -0.4754  0.9134 -0.2725  0.9541\n",
      " -0.0772  0.8818  0.     -0.8946  0.5563  0.      0.2732  0.7453 -0.7425\n",
      "  0.34    0.93    0.753   0.1027  0.6705  0.     -0.3384  0.4945  0.\n",
      " -0.2467  0.7269 -0.5423  0.1144  0.1429 -0.6903 -0.664   0.3947  0.5388\n",
      "  0.0387 -0.4215  0.7425 -0.7894  0.8605  0.9042 -0.5115  0.9651  0.7003\n",
      "  0.      0.      0.8035 -0.6106  0.2516  0.743  -0.5994  0.701   0.7003\n",
      "  0.      0.9193 -0.1419 -0.3555  0.4568  0.8833  0.7827  0.6486  0.8479\n",
      " -0.3905 -0.8979  0.6274  0.4588 -0.5081  0.4019  0.      0.3612 -0.6369\n",
      " -0.5106  0.6712  0.8126  0.1027 -0.0644  0.6698 -0.765   0.9219  0.9201\n",
      " -0.3951  0.9527 -0.1027  0.8593  0.2732  0.4939  0.2144 -0.4404  0.9039\n",
      "  0.8439  0.5549 -0.048   0.5927  0.8834  0.8622  0.802  -0.8557  0.9361\n",
      " -0.7582  0.8807 -0.6932 -0.7783  0.802  -0.8553  0.0258  0.6597  0.489\n",
      " -0.0387 -0.6632 -0.3804  0.2023  0.0516 -0.2638 -0.3753 -0.6705  0.\n",
      " -0.6779  0.3265 -0.2023  0.2263  0.8271 -0.6187  0.1779 -0.7506  0.\n",
      "  0.6124 -0.5927  0.4019  0.1045  0.9732  0.4588  0.8271 -0.4927  0.21\n",
      "  0.7184  0.3903  0.     -0.3612  0.1901  0.6908 -0.4005 -0.0975  0.7218\n",
      "  0.6353  0.     -0.0772  0.3089 -0.4188 -0.8625  0.6908  0.3023  0.296\n",
      "  0.8834 -0.5367  0.4927 -0.25    0.4215 -0.5563 -0.1027  0.7992  0.3384\n",
      "  0.1877 -0.296  -0.2755 -0.5082  0.      0.9886  0.     -0.6643 -0.9486\n",
      "  0.9532 -0.0644  0.6003 -0.1263  0.4902  0.3968  0.296   0.8428  0.3857\n",
      "  0.6408  0.8177  0.6813 -0.6126 -0.2763 -0.7574  0.818   0.7437  0.4824\n",
      "  0.      0.886  -0.9246 -0.2263]\n"
     ]
    }
   ],
   "source": [
    "print(compound_sc)"
   ]
  },
  {
   "cell_type": "code",
   "execution_count": 14,
   "metadata": {},
   "outputs": [
    {
     "name": "stdout",
     "output_type": "stream",
     "text": [
      "0.1628021978021978 0.5776148975617574 -0.97 0.9964\n"
     ]
    }
   ],
   "source": [
    "mu=np.mean(compound_sc)\n",
    "std=np.std(compound_sc)\n",
    "minimum=np.min(compound_sc)\n",
    "maximum=np.max(compound_sc)\n",
    "print(mu,std,minimum,maximum)"
   ]
  },
  {
   "cell_type": "code",
   "execution_count": 15,
   "metadata": {},
   "outputs": [],
   "source": [
    "import scipy.stats as st"
   ]
  },
  {
   "cell_type": "code",
   "execution_count": 16,
   "metadata": {},
   "outputs": [
    {
     "data": {
      "text/plain": [
       "(0.10318334947242844, 0.22242104613196714)"
      ]
     },
     "execution_count": 16,
     "metadata": {},
     "output_type": "execute_result"
    }
   ],
   "source": [
    "st.t.interval(alpha=0.95, df=len(compound_scores)-1, loc=np.mean(compound_scores), scale=st.sem(compound_scores))"
   ]
  },
  {
   "cell_type": "code",
   "execution_count": 20,
   "metadata": {},
   "outputs": [
    {
     "name": "stdout",
     "output_type": "stream",
     "text": [
      "-1.4807062325008309 0.1399009420232234\n"
     ]
    }
   ],
   "source": [
    "from scipy.stats import ttest_ind_from_stats\n",
    "n_1 = len(compound_scores)\n",
    "t, p = ttest_ind_from_stats(mu,std,n_1,0.2440059259259259, 0.5313009612002324,135, equal_var=False)\n",
    "print(t,p)"
   ]
  },
  {
   "cell_type": "code",
   "execution_count": null,
   "metadata": {},
   "outputs": [],
   "source": []
  }
 ],
 "metadata": {
  "kernelspec": {
   "display_name": "Python 3",
   "language": "python",
   "name": "python3"
  },
  "language_info": {
   "codemirror_mode": {
    "name": "ipython",
    "version": 3
   },
   "file_extension": ".py",
   "mimetype": "text/x-python",
   "name": "python",
   "nbconvert_exporter": "python",
   "pygments_lexer": "ipython3",
   "version": "3.8.5"
  }
 },
 "nbformat": 4,
 "nbformat_minor": 4
}
